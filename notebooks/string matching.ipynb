{
 "metadata": {
  "name": ""
 },
 "nbformat": 3,
 "nbformat_minor": 0,
 "worksheets": [
  {
   "cells": [
    {
     "cell_type": "code",
     "collapsed": false,
     "input": [
      "from urllib import urlopen\n",
      "import json\n",
      "data = json.load(urlopen(\"http://data.gov.uk/api/3/action/group_list\"))"
     ],
     "language": "python",
     "metadata": {},
     "outputs": [],
     "prompt_number": 3
    },
    {
     "cell_type": "code",
     "collapsed": false,
     "input": [
      "groups = data['result']"
     ],
     "language": "python",
     "metadata": {},
     "outputs": [],
     "prompt_number": 7
    },
    {
     "cell_type": "code",
     "collapsed": false,
     "input": [
      "import pandas\n",
      "gramz = pandas.read_csv('./departments_organograms.csv')"
     ],
     "language": "python",
     "metadata": {},
     "outputs": [],
     "prompt_number": 49
    },
    {
     "cell_type": "code",
     "collapsed": false,
     "input": [
      "import Levenshtein\n",
      "def match(x):\n",
      "    def quality(xx): return (Levenshtein.ratio(unicode(x),xx),xx)\n",
      "    scores = map(quality,groups)\n",
      "    return sorted(scores,key=lambda x:x[0],reverse=True)[0]\n",
      "gramz['quality'], gramz['match'] = zip( *gramz['slug'].map( match ) )"
     ],
     "language": "python",
     "metadata": {},
     "outputs": [],
     "prompt_number": 50
    },
    {
     "cell_type": "code",
     "collapsed": false,
     "input": [
      "gramz.set_index('slug').to_excel('organograms-publishers-matchup.xls')"
     ],
     "language": "python",
     "metadata": {},
     "outputs": [],
     "prompt_number": 53
    }
   ],
   "metadata": {}
  }
 ]
}