{
 "metadata": {
  "name": ""
 },
 "nbformat": 3,
 "nbformat_minor": 0,
 "worksheets": [
  {
   "cells": [
    {
     "cell_type": "code",
     "collapsed": false,
     "input": [
      "import pandas\n",
      "import urllib\n",
      "import json\n",
      "from time import sleep"
     ],
     "language": "python",
     "metadata": {},
     "outputs": [],
     "prompt_number": 111
    },
    {
     "cell_type": "code",
     "collapsed": false,
     "input": [
      "def url_open_retry(url):\n",
      "    while True:\n",
      "        out = urllib.urlopen(url)\n",
      "        status = out.getcode()\n",
      "        if status==200: \n",
      "            return out\n",
      "        elif status==500:\n",
      "            print 'HTTP 500,retrying in 0.5s'\n",
      "            sleep(0.5)\n",
      "        else:\n",
      "            raise ValueError('HTTP status=%s' % status)"
     ],
     "language": "python",
     "metadata": {},
     "outputs": [],
     "prompt_number": 112
    },
    {
     "cell_type": "code",
     "collapsed": false,
     "input": [
      "def read_items(url):\n",
      "    out = []\n",
      "    while url is not None:\n",
      "        print 'Downloading %s... ' % url,\n",
      "        j = json.load( url_open_retry(url)) \n",
      "        print '=> Got %d items.' % len( j['result']['items'] )\n",
      "        out.extend( j['result']['items'] )\n",
      "        url = j['result'].get('next')\n",
      "    return out"
     ],
     "language": "python",
     "metadata": {},
     "outputs": [],
     "prompt_number": 113
    },
    {
     "cell_type": "code",
     "collapsed": false,
     "input": [
      "# Pull the index of public bodies from every available date\n",
      "dates = [\n",
      "         '2011-03-31',\n",
      "         '2011-09-30',\n",
      "         '2012-03-31',\n",
      "         '2012-09-30',\n",
      "         '2013-03-31',\n",
      "         '2013-09-30'  ]\n",
      "items_for_date = {}\n",
      "for date in dates:\n",
      "    items_for_date[date] = read_items('http://reference.data.gov.uk/%s/doc/public-body.json'%date)"
     ],
     "language": "python",
     "metadata": {},
     "outputs": [
      {
       "output_type": "stream",
       "stream": "stdout",
       "text": [
        "Downloading http://reference.data.gov.uk/2011-03-31/doc/public-body.json...  "
       ]
      },
      {
       "output_type": "stream",
       "stream": "stdout",
       "text": [
        "=> Got 20 items.\n",
        "Downloading http://reference.data.gov.uk/2011-03-31/doc/public-body.json?_page=2...  "
       ]
      },
      {
       "output_type": "stream",
       "stream": "stdout",
       "text": [
        "=> Got 20 items.\n",
        "Downloading http://reference.data.gov.uk/2011-03-31/doc/public-body.json?_page=3...  "
       ]
      },
      {
       "output_type": "stream",
       "stream": "stdout",
       "text": [
        "=> Got 20 items.\n",
        "Downloading http://reference.data.gov.uk/2011-03-31/doc/public-body.json?_page=4...  "
       ]
      },
      {
       "output_type": "stream",
       "stream": "stdout",
       "text": [
        "=> Got 20 items.\n",
        "Downloading http://reference.data.gov.uk/2011-03-31/doc/public-body.json?_page=5...  "
       ]
      },
      {
       "output_type": "stream",
       "stream": "stdout",
       "text": [
        "=> Got 20 items.\n",
        "Downloading http://reference.data.gov.uk/2011-03-31/doc/public-body.json?_page=6...  "
       ]
      },
      {
       "output_type": "stream",
       "stream": "stdout",
       "text": [
        "=> Got 18 items.\n",
        "Downloading http://reference.data.gov.uk/2011-09-30/doc/public-body.json...  "
       ]
      },
      {
       "output_type": "stream",
       "stream": "stdout",
       "text": [
        "=> Got 20 items.\n",
        "Downloading http://reference.data.gov.uk/2011-09-30/doc/public-body.json?_page=2...  "
       ]
      },
      {
       "output_type": "stream",
       "stream": "stdout",
       "text": [
        "=> Got 20 items.\n",
        "Downloading http://reference.data.gov.uk/2011-09-30/doc/public-body.json?_page=3...  "
       ]
      },
      {
       "output_type": "stream",
       "stream": "stdout",
       "text": [
        "=> Got 20 items.\n",
        "Downloading http://reference.data.gov.uk/2011-09-30/doc/public-body.json?_page=4...  "
       ]
      },
      {
       "output_type": "stream",
       "stream": "stdout",
       "text": [
        "=> Got 20 items.\n",
        "Downloading http://reference.data.gov.uk/2011-09-30/doc/public-body.json?_page=5...  "
       ]
      },
      {
       "output_type": "stream",
       "stream": "stdout",
       "text": [
        "=> Got 20 items.\n",
        "Downloading http://reference.data.gov.uk/2011-09-30/doc/public-body.json?_page=6...  "
       ]
      },
      {
       "output_type": "stream",
       "stream": "stdout",
       "text": [
        "=> Got 20 items.\n",
        "Downloading http://reference.data.gov.uk/2011-09-30/doc/public-body.json?_page=7...  "
       ]
      },
      {
       "output_type": "stream",
       "stream": "stdout",
       "text": [
        "=> Got 20 items.\n",
        "Downloading http://reference.data.gov.uk/2011-09-30/doc/public-body.json?_page=8...  "
       ]
      },
      {
       "output_type": "stream",
       "stream": "stdout",
       "text": [
        "=> Got 13 items.\n",
        "Downloading http://reference.data.gov.uk/2012-03-31/doc/public-body.json...  "
       ]
      },
      {
       "output_type": "stream",
       "stream": "stdout",
       "text": [
        "=> Got 20 items.\n",
        "Downloading http://reference.data.gov.uk/2012-03-31/doc/public-body.json?_page=2...  "
       ]
      },
      {
       "output_type": "stream",
       "stream": "stdout",
       "text": [
        "=> Got 20 items.\n",
        "Downloading http://reference.data.gov.uk/2012-03-31/doc/public-body.json?_page=3...  "
       ]
      },
      {
       "output_type": "stream",
       "stream": "stdout",
       "text": [
        "=> Got 20 items.\n",
        "Downloading http://reference.data.gov.uk/2012-03-31/doc/public-body.json?_page=4...  "
       ]
      },
      {
       "output_type": "stream",
       "stream": "stdout",
       "text": [
        "=> Got 20 items.\n",
        "Downloading http://reference.data.gov.uk/2012-03-31/doc/public-body.json?_page=5...  "
       ]
      },
      {
       "output_type": "stream",
       "stream": "stdout",
       "text": [
        "=> Got 20 items.\n",
        "Downloading http://reference.data.gov.uk/2012-03-31/doc/public-body.json?_page=6...  "
       ]
      },
      {
       "output_type": "stream",
       "stream": "stdout",
       "text": [
        "=> Got 13 items.\n",
        "Downloading http://reference.data.gov.uk/2012-09-30/doc/public-body.json...  "
       ]
      },
      {
       "output_type": "stream",
       "stream": "stdout",
       "text": [
        "=> Got 20 items.\n",
        "Downloading http://reference.data.gov.uk/2012-09-30/doc/public-body.json?_page=2...  "
       ]
      },
      {
       "output_type": "stream",
       "stream": "stdout",
       "text": [
        "=> Got 20 items.\n",
        "Downloading http://reference.data.gov.uk/2012-09-30/doc/public-body.json?_page=3...  "
       ]
      },
      {
       "output_type": "stream",
       "stream": "stdout",
       "text": [
        "=> Got 20 items.\n",
        "Downloading http://reference.data.gov.uk/2012-09-30/doc/public-body.json?_page=4...  "
       ]
      },
      {
       "output_type": "stream",
       "stream": "stdout",
       "text": [
        "=> Got 20 items.\n",
        "Downloading http://reference.data.gov.uk/2012-09-30/doc/public-body.json?_page=5...  "
       ]
      },
      {
       "output_type": "stream",
       "stream": "stdout",
       "text": [
        "=> Got 20 items.\n",
        "Downloading http://reference.data.gov.uk/2012-09-30/doc/public-body.json?_page=6...  "
       ]
      },
      {
       "output_type": "stream",
       "stream": "stdout",
       "text": [
        "=> Got 2 items.\n",
        "Downloading http://reference.data.gov.uk/2013-03-31/doc/public-body.json...  "
       ]
      },
      {
       "output_type": "stream",
       "stream": "stdout",
       "text": [
        "=> Got 20 items.\n",
        "Downloading http://reference.data.gov.uk/2013-03-31/doc/public-body.json?_page=2...  "
       ]
      },
      {
       "output_type": "stream",
       "stream": "stdout",
       "text": [
        "=> Got 20 items.\n",
        "Downloading http://reference.data.gov.uk/2013-03-31/doc/public-body.json?_page=3...  "
       ]
      },
      {
       "output_type": "stream",
       "stream": "stdout",
       "text": [
        "=> Got 11 items.\n",
        "Downloading http://reference.data.gov.uk/2013-09-30/doc/public-body.json...  "
       ]
      },
      {
       "output_type": "stream",
       "stream": "stdout",
       "text": [
        "=> Got 20 items.\n",
        "Downloading http://reference.data.gov.uk/2013-09-30/doc/public-body.json?_page=2...  "
       ]
      },
      {
       "output_type": "stream",
       "stream": "stdout",
       "text": [
        "=> Got 20 items.\n",
        "Downloading http://reference.data.gov.uk/2013-09-30/doc/public-body.json?_page=3...  "
       ]
      },
      {
       "output_type": "stream",
       "stream": "stdout",
       "text": [
        "=> Got 18 items.\n"
       ]
      }
     ],
     "prompt_number": 3
    },
    {
     "cell_type": "code",
     "collapsed": false,
     "input": [
      "all_bodies = {}\n",
      "for (date,items) in items_for_date.iteritems():\n",
      "    for item in items:\n",
      "        name = item['label'][-1]\n",
      "        key = name.lower()\n",
      "        url_slug = item['_about'].split('/')[-1]\n",
      "        all_bodies[key] = all_bodies.get(key,{'slug':url_slug,'dates':[]})\n",
      "        all_bodies[key]['dates'].append(date)"
     ],
     "language": "python",
     "metadata": {},
     "outputs": [],
     "prompt_number": 72
    },
    {
     "cell_type": "code",
     "collapsed": false,
     "input": [
      "all_bodies['serious fraud office']"
     ],
     "language": "python",
     "metadata": {},
     "outputs": [
      {
       "metadata": {},
       "output_type": "pyout",
       "prompt_number": 74,
       "text": [
        "{'dates': ['2011-03-31', '2011-09-30', '2013-03-31'],\n",
        " 'slug': u'serious-fraud-office'}"
       ]
      }
     ],
     "prompt_number": 74
    },
    {
     "cell_type": "code",
     "collapsed": false,
     "input": [
      "errors = []\n",
      "def scrape(key,date):\n",
      "    slug = all_bodies[key]['slug']\n",
      "    print 'Scraping %s on %s' % (slug,date)\n",
      "    print '---'\n",
      "    url_top_post = \"http://reference.data.gov.uk/%s/doc/public-body/%s/top-post.json\" % (date,slug)\n",
      "    seniors = read_items(url_top_post)\n",
      "    assert len(seniors)==1\n",
      "    queue = [ post_id ]\n",
      "    post_id = top_post[0]['_about'].split('/')[-1]\n",
      "    post_id = int(post_id)\n",
      "    print post_id\n",
      "    url_senior = \"http://reference.data.gov.uk/%s/doc/public-body/%s/post/%d/reports-full.json\" % (date,slug,post_id)\n",
      "    url_junior = \"http://reference.data.gov.uk/%s/doc/public-body/%s/post/%d/immediate-junior-staff.json\" % (date,slug,post_id)\n",
      "    seniors = read_items(url_senior)\n",
      "    juniors = read_items(url_junior)\n",
      "    return (top_post+seniors,juniors)\n",
      "tmp=scrape('serious fraud office','2011-09-30')\n"
     ],
     "language": "python",
     "metadata": {},
     "outputs": [
      {
       "output_type": "stream",
       "stream": "stdout",
       "text": [
        "Scraping serious-fraud-office on 2013-03-31\n",
        "Downloading http://reference.data.gov.uk/2013-03-31/doc/public-body/serious-fraud-office/top-post.json...  "
       ]
      },
      {
       "output_type": "stream",
       "stream": "stdout",
       "text": [
        "=> Got 1 items.\n",
        "1\n",
        "Downloading http://reference.data.gov.uk/2013-03-31/doc/public-body/serious-fraud-office/post/1/reports-full.json...  "
       ]
      },
      {
       "output_type": "stream",
       "stream": "stdout",
       "text": [
        "HTTP 500,retrying in 0.5s\n",
        "=> Got 11 items."
       ]
      },
      {
       "output_type": "stream",
       "stream": "stdout",
       "text": [
        "\n",
        "Downloading http://reference.data.gov.uk/2013-03-31/doc/public-body/serious-fraud-office/post/1/immediate-junior-staff.json...  "
       ]
      },
      {
       "output_type": "stream",
       "stream": "stdout",
       "text": [
        "=> Got 2 items.\n"
       ]
      }
     ],
     "prompt_number": 148
    },
    {
     "cell_type": "code",
     "collapsed": false,
     "input": [
      "def s(x):\n",
      "    if 'withJob' in x:\n",
      "        return x['withJob']['prefLabel']\n",
      "    return x['label'][0]\n",
      "map(s,tmp[0]), map(s,tmp[1])"
     ],
     "language": "python",
     "metadata": {},
     "outputs": [
      {
       "metadata": {},
       "output_type": "pyout",
       "prompt_number": 147,
       "text": [
        "([u'Director', u'Chief Executive'],\n",
        " [u'Senior Personal Secretary',\n",
        "  u'Senior Personal Secretary',\n",
        "  u'PA to Director'])"
       ]
      }
     ],
     "prompt_number": 147
    }
   ],
   "metadata": {}
  }
 ]
}