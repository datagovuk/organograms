{
 "metadata": {
  "name": ""
 },
 "nbformat": 3,
 "nbformat_minor": 0,
 "worksheets": [
  {
   "cells": [
    {
     "cell_type": "code",
     "collapsed": false,
     "input": [
      "import pandas\n",
      "import csv\n",
      "import numpy"
     ],
     "language": "python",
     "metadata": {},
     "outputs": [],
     "prompt_number": 7
    },
    {
     "cell_type": "code",
     "collapsed": false,
     "input": [
      "from xlrd import XLRDError\n",
      "\n",
      "def load_excel_store_errors(filename, sheet_name, errors, input_columns, rename_columns, integer_columns):\n",
      "    \"\"\"Carefully load an Excel file, taking care to log errors and produce clean output.\n",
      "    You'll always receive a dataframe with the expected columns, though it might contain 0 rows if\n",
      "    there are errors. Strings will be stored in the 'errors' array.\"\"\"\n",
      "    # Output columns can be different. Update according to the rename_columns hash:\n",
      "    output_columns = [ rename_columns.get(x,x) for x in input_columns ]\n",
      "    try:\n",
      "        df = pandas.read_excel(filename,\n",
      "                               sheet_name,\n",
      "                               convert_float=True,\n",
      "                               parse_cols=len(input_columns)-1)\n",
      "    except XLRDError, e:\n",
      "        errors.append( str(e) )\n",
      "        return pandas.DataFrame(columns=output_columns)\n",
      "    # Verify number of columns\n",
      "    if len(df.columns)!=len(input_columns):\n",
      "        errors.append(\"Sheet %s contains %d columns. I expect at least %d columns.\"%(sheet_name,len(df.columns),len(input_columns)))\n",
      "        return pandas.DataFrame(columns=output_columns)\n",
      "    # Softly correct column names\n",
      "    for i in range(len(df.columns)):\n",
      "        if df.columns[i]!=input_columns[i]:\n",
      "            from string import uppercase\n",
      "            errors.append(\"Sheet %s column %s: Title='%s' Expected='%s'\" % (sheet_name,uppercase[i],df.columns[i],input_columns[i]))\n",
      "    df.columns = output_columns\n",
      "    # Filter null rows\n",
      "    column0 = df[ df.columns[0] ]\n",
      "    df = df[ column0.notnull() ]\n",
      "    # Softly cast to integer\n",
      "    def cast_to_int(column_name):\n",
      "        def _inner(x):\n",
      "            if pandas.isnull(x): return 0\n",
      "            try:\n",
      "                return int(x)\n",
      "            except ValueError,e:\n",
      "                errors.append('Expected numeric values in column \"%s\", but got text=\"%s\".'%(column_name,x))\n",
      "                return 0\n",
      "        return _inner\n",
      "    for column_name in integer_columns:\n",
      "        df[column_name] = df[column_name].map( cast_to_int(column_name) ).astype(int)\n",
      "    return df"
     ],
     "language": "python",
     "metadata": {},
     "outputs": [],
     "prompt_number": 2
    },
    {
     "cell_type": "code",
     "collapsed": false,
     "input": [
      "def load_senior(excel_filename,errors):\n",
      "    input_columns = [\n",
      "      u'Post Unique Reference', \n",
      "      u'Name', \n",
      "      u'Grade (or equivalent)', \n",
      "      u'Job Title', \n",
      "      u'Job/Team Function', \n",
      "      u'Parent Department', \n",
      "      u'Organisation', \n",
      "      u'Unit', \n",
      "      u'Contact Phone', \n",
      "      u'Contact E-mail', \n",
      "      u'Reports to Senior Post', \n",
      "      u'Salary Cost of Reports (\u00a3)', \n",
      "      u'FTE', \n",
      "      u'Actual Pay Floor (\u00a3)', \n",
      "      u'Actual Pay Ceiling (\u00a3)', \n",
      "      u'Total Pay (\u00a3)', \n",
      "      u'Professional/Occupational Group', \n",
      "      u'Notes', \n",
      "      u'Valid?']\n",
      "    rename_columns = { \n",
      "      u'Total Pay (\u00a3)' : u'',\n",
      "      u'Grade (or equivalent)' : u'Grade',\n",
      "    }\n",
      "    integer_columns = [\n",
      "      u'Actual Pay Floor (\u00a3)',\n",
      "      u'Actual Pay Ceiling (\u00a3)',\n",
      "      u'',\n",
      "    ]\n",
      "    df = load_excel_store_errors(excel_filename, '(final data) senior-staff', errors, input_columns, rename_columns, integer_columns)\n",
      "    if df.dtypes['Post Unique Reference']==numpy.float64:\n",
      "        df['Post Unique Reference'] = df['Post Unique Reference'].astype('int')\n",
      "    return df"
     ],
     "language": "python",
     "metadata": {},
     "outputs": [],
     "prompt_number": 3
    },
    {
     "cell_type": "code",
     "collapsed": false,
     "input": [
      "def load_junior(excel_filename,errors):\n",
      "    input_columns = [\n",
      "      u'Parent Department',               \n",
      "      u'Organisation',                    \n",
      "      u'Unit',                            \n",
      "      u'Reporting Senior Post',           \n",
      "      u'Grade',                           \n",
      "      u'Payscale Minimum (\u00a3)',            \n",
      "      u'Payscale Maximum (\u00a3)',            \n",
      "      u'Generic Job Title',               \n",
      "      u'Number of Posts in FTE',          \n",
      "      u'Professional/Occupational Group' ]\n",
      "    integer_columns = [\n",
      "      u'Payscale Minimum (\u00a3)',\n",
      "      u'Payscale Maximum (\u00a3)'\n",
      "    ]\n",
      "    df = load_excel_store_errors(excel_filename, '(final data) junior-staff', errors, input_columns, {}, integer_columns)\n",
      "    if df.dtypes['Reporting Senior Post']==numpy.float64:\n",
      "        df['Reporting Senior Post'] = df['Reporting Senior Post'].fillna(-1).astype('int')\n",
      "    return df"
     ],
     "language": "python",
     "metadata": {},
     "outputs": [],
     "prompt_number": 4
    },
    {
     "cell_type": "code",
     "collapsed": false,
     "input": [
      "import os.path\n",
      "import json\n",
      "\n",
      "files = !ls ../data/xls/*.xls\n",
      "output_folder = \"../data/csv\"\n",
      "# ===============\n",
      "\n",
      "index = []\n",
      "for filename in files:\n",
      "    print \"-\"*40\n",
      "    print \"Loading\",filename\n",
      "    errors = []\n",
      "    senior = load_senior(filename,errors)\n",
      "    junior = load_junior(filename,errors)\n",
      "    # TODO verify the graph makes sense\n",
      "    for error in list(set(errors)):\n",
      "        print \"ERROR:\",error\n",
      "    # Calculate Organogram name\n",
      "    _org  = senior['Organisation']\n",
      "    _org  = _org[_org.notnull()].unique()\n",
      "    name  = \" & \".join(_org)\n",
      "    if name==u'Ministry of Defence':\n",
      "        _unit = senior['Unit']\n",
      "        _unit = _unit[_unit.notnull()].unique()\n",
      "        name += \" - \" + (\" & \".join(_unit))\n",
      "    # Write output files\n",
      "    basename,extension = os.path.splitext(os.path.basename(filename))\n",
      "    senior_filename = os.path.join(output_folder, basename+'-senior.csv')\n",
      "    junior_filename = os.path.join(output_folder, basename+'-junior.csv')\n",
      "    print \"Writing\",senior_filename\n",
      "    senior.to_csv(senior_filename,encoding=\"utf-8\")\n",
      "    print \"Writing\",junior_filename\n",
      "    junior.to_csv(junior_filename,encoding=\"utf-8\")\n",
      "    # Update index\n",
      "    index.append({'name':name,'value':basename})\n",
      "index = sorted(index,key=lambda x:x['name'])\n",
      "index_filename = os.path.join(output_folder,'index.json')\n",
      "print \"=\"*40\n",
      "print \"Writing index file:\",index_filename\n",
      "with open(index_filename,'w') as f:\n",
      "    json.dump(index,f)\n",
      "print \"Done.\""
     ],
     "language": "python",
     "metadata": {},
     "outputs": [
      {
       "output_type": "stream",
       "stream": "stdout",
       "text": [
        "----------------------------------------\n",
        "Loading ../data/xls/011013-DH---Organogram.xls\n",
        "Writing"
       ]
      },
      {
       "output_type": "stream",
       "stream": "stdout",
       "text": [
        " ../data/csv/011013-DH---Organogram-senior.csv\n",
        "Writing ../data/csv/011013-DH---Organogram-junior.csv\n",
        "----------------------------------------"
       ]
      },
      {
       "output_type": "stream",
       "stream": "stdout",
       "text": [
        "\n",
        "Loading ../data/xls/011113-SE-data.xls\n",
        "Writing"
       ]
      },
      {
       "output_type": "stream",
       "stream": "stderr",
       "text": [
        "-c:33: SettingWithCopyWarning: A value is trying to be set on a copy of a slice from a DataFrame.\n",
        "Try using .loc[row_index,col_indexer] = value instead\n",
        "-c:19: SettingWithCopyWarning: A value is trying to be set on a copy of a slice from a DataFrame.\n",
        "Try using .loc[row_index,col_indexer] = value instead\n"
       ]
      },
      {
       "output_type": "stream",
       "stream": "stdout",
       "text": [
        " ../data/csv/011113-SE-data-senior.csv\n",
        "Writing ../data/csv/011113-SE-data-junior.csv\n",
        "----------------------------------------\n",
        "Loading ../data/xls/060413-NHSLA-organogram-ver4.xls\n",
        "Writing"
       ]
      },
      {
       "output_type": "stream",
       "stream": "stdout",
       "text": [
        " ../data/csv/060413-NHSLA-organogram-ver4-senior.csv\n",
        "Writing ../data/csv/060413-NHSLA-organogram-ver4-junior.csv\n",
        "----------------------------------------\n",
        "Loading ../data/xls/130930-Civil-Service-Learning-Organogram-Data.xls\n",
        "Writing"
       ]
      },
      {
       "output_type": "stream",
       "stream": "stdout",
       "text": [
        " ../data/csv/130930-Civil-Service-Learning-Organogram-Data-senior.csv\n",
        "Writing ../data/csv/130930-Civil-Service-Learning-Organogram-Data-junior.csv\n",
        "----------------------------------------\n",
        "Loading ../data/xls/130930-HMIC-Organogram-Data.xls\n",
        "Writing"
       ]
      },
      {
       "output_type": "stream",
       "stream": "stdout",
       "text": [
        " ../data/csv/130930-HMIC-Organogram-Data-senior.csv\n",
        "Writing ../data/csv/130930-HMIC-Organogram-Data-junior.csv\n",
        "----------------------------------------\n",
        "Loading ../data/xls/130930-Her-Majesty-Passport-Office-Organogram-Data.xls\n",
        "ERROR:"
       ]
      },
      {
       "output_type": "stream",
       "stream": "stdout",
       "text": [
        " Expected numeric values in column \"Payscale Maximum (\u00a3)\", but got text=\"(spot rate)\".\n",
        "Writing ../data/csv/130930-Her-Majesty-Passport-Office-Organogram-Data-senior.csv\n",
        "Writing ../data/csv/130930-Her-Majesty-Passport-Office-Organogram-Data-junior.csv\n",
        "----------------------------------------\n",
        "Loading ../data/xls/130930-Home-Office-Organogram-Data.xls\n",
        "Writing"
       ]
      },
      {
       "output_type": "stream",
       "stream": "stdout",
       "text": [
        " ../data/csv/130930-Home-Office-Organogram-Data-senior.csv\n",
        "Writing ../data/csv/130930-Home-Office-Organogram-Data-junior.csv\n",
        "----------------------------------------"
       ]
      },
      {
       "output_type": "stream",
       "stream": "stdout",
       "text": [
        "\n",
        "Loading ../data/xls/130930-National-Fraud-Authority-Organogram-Data.xls\n",
        "Writing"
       ]
      },
      {
       "output_type": "stream",
       "stream": "stdout",
       "text": [
        " ../data/csv/130930-National-Fraud-Authority-Organogram-Data-senior.csv\n",
        "Writing ../data/csv/130930-National-Fraud-Authority-Organogram-Data-junior.csv\n",
        "----------------------------------------\n",
        "Loading ../data/xls/20130913-DSTL_Organogram_Final.xls\n",
        "ERROR:"
       ]
      },
      {
       "output_type": "stream",
       "stream": "stdout",
       "text": [
        " Expected numeric values in column \"Actual Pay Floor (\u00a3)\", but got text=\"Actual Pay Floor\".\n",
        "ERROR: Expected numeric values in column \"Actual Pay Ceiling (\u00a3)\", but got text=\"Actual Pay Floor\".\n",
        "ERROR: Expected numeric values in column \"Actual Pay Floor (\u00a3)\", but got text=\"ND\".\n",
        "ERROR: Expected numeric values in column \"Actual Pay Ceiling (\u00a3)\", but got text=\"ND\".\n",
        "Writing ../data/csv/20130913-DSTL_Organogram_Final-senior.csv\n",
        "Writing ../data/csv/20130913-DSTL_Organogram_Final-junior.csv\n",
        "----------------------------------------\n",
        "Loading ../data/xls/20131002-300913_Air_Govt_Data_Template-u.xls\n",
        "Writing"
       ]
      },
      {
       "output_type": "stream",
       "stream": "stdout",
       "text": [
        " ../data/csv/20131002-300913_Air_Govt_Data_Template-u-senior.csv\n",
        "Writing ../data/csv/20131002-300913_Air_Govt_Data_Template-u-junior.csv\n",
        "----------------------------------------\n",
        "Loading ../data/xls/20131002-NC-Govt-Transparency-Sept-2013_20140127_FINAL.xls\n",
        "Writing"
       ]
      },
      {
       "output_type": "stream",
       "stream": "stdout",
       "text": [
        " ../data/csv/20131002-NC-Govt-Transparency-Sept-2013_20140127_FINAL-senior.csv\n",
        "Writing ../data/csv/20131002-NC-Govt-Transparency-Sept-2013_20140127_FINAL-junior.csv\n",
        "----------------------------------------"
       ]
      },
      {
       "output_type": "stream",
       "stream": "stdout",
       "text": [
        "\n",
        "Loading ../data/xls/20131021-DIO_Data_Organogram_Sept_2013-U.xls\n",
        "Writing"
       ]
      },
      {
       "output_type": "stream",
       "stream": "stdout",
       "text": [
        " ../data/csv/20131021-DIO_Data_Organogram_Sept_2013-U-senior.csv\n",
        "Writing ../data/csv/20131021-DIO_Data_Organogram_Sept_2013-U-junior.csv\n",
        "----------------------------------------\n",
        "Loading ../data/xls/20131114-HOCS-Consolidated-September-2013-FINAL.xls\n",
        "Writing"
       ]
      },
      {
       "output_type": "stream",
       "stream": "stdout",
       "text": [
        " ../data/csv/20131114-HOCS-Consolidated-September-2013-FINAL-senior.csv\n",
        "Writing ../data/csv/20131114-HOCS-Consolidated-September-2013-FINAL-junior.csv\n",
        "----------------------------------------"
       ]
      },
      {
       "output_type": "stream",
       "stream": "stdout",
       "text": [
        "\n",
        "Loading ../data/xls/20131128-BTPA-Organogram-Return-for-20130930.xls\n",
        "Writing"
       ]
      },
      {
       "output_type": "stream",
       "stream": "stdout",
       "text": [
        " ../data/csv/20131128-BTPA-Organogram-Return-for-20130930-senior.csv\n",
        "Writing ../data/csv/20131128-BTPA-Organogram-Return-for-20130930-junior.csv\n",
        "----------------------------------------\n",
        "Loading ../data/xls/20131202-DES_OCT_13_organogram_FINAL_U.xls\n",
        "Writing"
       ]
      },
      {
       "output_type": "stream",
       "stream": "stdout",
       "text": [
        " ../data/csv/20131202-DES_OCT_13_organogram_FINAL_U-senior.csv\n",
        "Writing ../data/csv/20131202-DES_OCT_13_organogram_FINAL_U-junior.csv\n",
        "----------------------------------------"
       ]
      },
      {
       "output_type": "stream",
       "stream": "stdout",
       "text": [
        "\n",
        "Loading ../data/xls/20131217-JFC-Transparency_Organogram_Return_September_2013-U.xls\n",
        "ERROR:"
       ]
      },
      {
       "output_type": "stream",
       "stream": "stdout",
       "text": [
        " Expected numeric values in column \"Payscale Minimum (\u00a3)\", but got text=\"\u00a0 21,176 \".\n",
        "Writing ../data/csv/20131217-JFC-Transparency_Organogram_Return_September_2013-U-senior.csv\n",
        "Writing ../data/csv/20131217-JFC-Transparency_Organogram_Return_September_2013-U-junior.csv\n",
        "----------------------------------------"
       ]
      },
      {
       "output_type": "stream",
       "stream": "stdout",
       "text": [
        "\n",
        "Loading ../data/xls/20140214-Army_GTA_Organogram_Sep2013_Final-U.xls\n",
        "Writing"
       ]
      },
      {
       "output_type": "stream",
       "stream": "stdout",
       "text": [
        " ../data/csv/20140214-Army_GTA_Organogram_Sep2013_Final-U-senior.csv\n",
        "Writing ../data/csv/20140214-Army_GTA_Organogram_Sep2013_Final-U-junior.csv\n",
        "----------------------------------------"
       ]
      },
      {
       "output_type": "stream",
       "stream": "stdout",
       "text": [
        "\n",
        "Loading ../data/xls/30-09-13---EH---organogram---ver1.xls\n",
        "Writing"
       ]
      },
      {
       "output_type": "stream",
       "stream": "stdout",
       "text": [
        " ../data/csv/30-09-13---EH---organogram---ver1-senior.csv\n",
        "Writing ../data/csv/30-09-13---EH---organogram---ver1-junior.csv\n",
        "----------------------------------------\n",
        "Loading ../data/xls/300912-government-staff-and-salary-data-QEIICC---Oct-2013.xls\n",
        "ERROR:"
       ]
      },
      {
       "output_type": "stream",
       "stream": "stdout",
       "text": [
        " Expected numeric values in column \"Payscale Minimum (\u00a3)\", but got text=\"Spot Rate\".\n",
        "ERROR: Expected numeric values in column \"Payscale Maximum (\u00a3)\", but got text=\"Spot Rate\".\n",
        "Writing ../data/csv/300912-government-staff-and-salary-data-QEIICC---Oct-2013-senior.csv\n",
        "Writing ../data/csv/300912-government-staff-and-salary-data-QEIICC---Oct-2013-junior.csv\n",
        "----------------------------------------\n",
        "Loading ../data/xls/300913---AHRC---Transparency-Organogram1.xls\n",
        "Writing"
       ]
      },
      {
       "output_type": "stream",
       "stream": "stdout",
       "text": [
        " ../data/csv/300913---AHRC---Transparency-Organogram1-senior.csv\n",
        "Writing ../data/csv/300913---AHRC---Transparency-Organogram1-junior.csv\n",
        "----------------------------------------\n",
        "Loading ../data/xls/300913---EPSRC---Transparency-Organogram.xls\n",
        "Writing"
       ]
      },
      {
       "output_type": "stream",
       "stream": "stdout",
       "text": [
        " ../data/csv/300913---EPSRC---Transparency-Organogram-senior.csv\n",
        "Writing ../data/csv/300913---EPSRC---Transparency-Organogram-junior.csv\n",
        "----------------------------------------\n",
        "Loading ../data/xls/300913---ESRC---Transparency-Organogram.xls\n",
        "Writing"
       ]
      },
      {
       "output_type": "stream",
       "stream": "stdout",
       "text": [
        " ../data/csv/300913---ESRC---Transparency-Organogram-senior.csv\n",
        "Writing ../data/csv/300913---ESRC---Transparency-Organogram-junior.csv\n",
        "----------------------------------------\n",
        "Loading ../data/xls/300913-CPS-Organogram-v0.1.xls\n",
        "Writing"
       ]
      },
      {
       "output_type": "stream",
       "stream": "stdout",
       "text": [
        " ../data/csv/300913-CPS-Organogram-v0.1-senior.csv\n",
        "Writing ../data/csv/300913-CPS-Organogram-v0.1-junior.csv\n",
        "----------------------------------------"
       ]
      },
      {
       "output_type": "stream",
       "stream": "stdout",
       "text": [
        "\n",
        "Loading ../data/xls/300913-Competition-Commission-staff-and-salary-data---September-2013.xls\n",
        "ERROR:"
       ]
      },
      {
       "output_type": "stream",
       "stream": "stdout",
       "text": [
        " Expected numeric values in column \"Actual Pay Floor (\u00a3)\", but got text=\"ND\".\n",
        "ERROR: Expected numeric values in column \"Actual Pay Ceiling (\u00a3)\", but got text=\"ND\".\n",
        "Writing ../data/csv/300913-Competition-Commission-staff-and-salary-data---September-2013-senior.csv\n",
        "Writing ../data/csv/300913-Competition-Commission-staff-and-salary-data---September-2013-junior.csv\n",
        "----------------------------------------\n",
        "Loading ../data/xls/300913-DECC-organogram.xls\n",
        "Writing"
       ]
      },
      {
       "output_type": "stream",
       "stream": "stdout",
       "text": [
        " ../data/csv/300913-DECC-organogram-senior.csv\n",
        "Writing ../data/csv/300913-DECC-organogram-junior.csv\n",
        "----------------------------------------"
       ]
      },
      {
       "output_type": "stream",
       "stream": "stdout",
       "text": [
        "\n",
        "Loading ../data/xls/300913-DWP.xls.xls\n",
        "Writing"
       ]
      },
      {
       "output_type": "stream",
       "stream": "stdout",
       "text": [
        " ../data/csv/300913-DWP.xls-senior.csv\n",
        "Writing"
       ]
      },
      {
       "output_type": "stream",
       "stream": "stdout",
       "text": [
        " ../data/csv/300913-DWP.xls-junior.csv\n",
        "----------------------------------------"
       ]
      },
      {
       "output_type": "stream",
       "stream": "stdout",
       "text": [
        "\n",
        "Loading ../data/xls/300913-Defra-Organogram-ver-2.xls\n",
        "Writing"
       ]
      },
      {
       "output_type": "stream",
       "stream": "stdout",
       "text": [
        " ../data/csv/300913-Defra-Organogram-ver-2-senior.csv\n",
        "Writing ../data/csv/300913-Defra-Organogram-ver-2-junior.csv\n",
        "----------------------------------------"
       ]
      },
      {
       "output_type": "stream",
       "stream": "stdout",
       "text": [
        "\n",
        "Loading ../data/xls/300913-FC-ORGANOGRAM.xls\n",
        "Writing"
       ]
      },
      {
       "output_type": "stream",
       "stream": "stdout",
       "text": [
        " ../data/csv/300913-FC-ORGANOGRAM-senior.csv\n",
        "Writing ../data/csv/300913-FC-ORGANOGRAM-junior.csv\n",
        "----------------------------------------\n",
        "Loading ../data/xls/300913-GPS-Organogram-Ver-1.xls\n",
        "Writing"
       ]
      },
      {
       "output_type": "stream",
       "stream": "stdout",
       "text": [
        " ../data/csv/300913-GPS-Organogram-Ver-1-senior.csv\n",
        "Writing ../data/csv/300913-GPS-Organogram-Ver-1-junior.csv\n",
        "----------------------------------------\n",
        "Loading ../data/xls/300913-HEFCE.xls\n",
        "Writing"
       ]
      },
      {
       "output_type": "stream",
       "stream": "stdout",
       "text": [
        " ../data/csv/300913-HEFCE-senior.csv\n",
        "Writing ../data/csv/300913-HEFCE-junior.csv\n",
        "----------------------------------------\n",
        "Loading ../data/xls/300913-HMRC-Organogram-Final.xls\n",
        "Writing"
       ]
      },
      {
       "output_type": "stream",
       "stream": "stdout",
       "text": [
        " ../data/csv/300913-HMRC-Organogram-Final-senior.csv\n",
        "Writing"
       ]
      },
      {
       "output_type": "stream",
       "stream": "stdout",
       "text": [
        " ../data/csv/300913-HMRC-Organogram-Final-junior.csv\n",
        "----------------------------------------"
       ]
      },
      {
       "output_type": "stream",
       "stream": "stdout",
       "text": [
        "\n",
        "Loading ../data/xls/300913-HSE-Organogram-ver1.xls\n",
        "Writing"
       ]
      },
      {
       "output_type": "stream",
       "stream": "stdout",
       "text": [
        " ../data/csv/300913-HSE-Organogram-ver1-senior.csv\n",
        "Writing ../data/csv/300913-HSE-Organogram-ver1-junior.csv\n",
        "----------------------------------------"
       ]
      },
      {
       "output_type": "stream",
       "stream": "stdout",
       "text": [
        "\n",
        "Loading ../data/xls/300913-Land-Registry-Organogram.xls\n",
        "Writing"
       ]
      },
      {
       "output_type": "stream",
       "stream": "stdout",
       "text": [
        " ../data/csv/300913-Land-Registry-Organogram-senior.csv\n",
        "Writing ../data/csv/300913-Land-Registry-Organogram-junior.csv\n",
        "----------------------------------------\n",
        "Loading ../data/xls/300913-NG-Organogram-Ver1.xls\n",
        "Writing"
       ]
      },
      {
       "output_type": "stream",
       "stream": "stdout",
       "text": [
        " ../data/csv/300913-NG-Organogram-Ver1-senior.csv\n",
        "Writing ../data/csv/300913-NG-Organogram-Ver1-junior.csv\n",
        "----------------------------------------\n",
        "Loading ../data/xls/300913-NHS-Business-Services-Authority.xls\n",
        "Writing"
       ]
      },
      {
       "output_type": "stream",
       "stream": "stdout",
       "text": [
        " ../data/csv/300913-NHS-Business-Services-Authority-senior.csv\n",
        "Writing ../data/csv/300913-NHS-Business-Services-Authority-junior.csv\n",
        "----------------------------------------\n",
        "Loading ../data/xls/300913-NHSEngland-Organogram-ver4.xls\n",
        "ERROR:"
       ]
      },
      {
       "output_type": "stream",
       "stream": "stdout",
       "text": [
        " Expected numeric values in column \"\", but got text=\"N/D\".\n",
        "Writing ../data/csv/300913-NHSEngland-Organogram-ver4-senior.csv\n",
        "Writing ../data/csv/300913-NHSEngland-Organogram-ver4-junior.csv\n",
        "----------------------------------------\n",
        "Loading ../data/xls/300913-NICE-Organogram.xls\n",
        "ERROR:"
       ]
      },
      {
       "output_type": "stream",
       "stream": "stdout",
       "text": [
        " Expected numeric values in column \"Actual Pay Floor (\u00a3)\", but got text=\"n/a\".\n",
        "ERROR: Expected numeric values in column \"Actual Pay Ceiling (\u00a3)\", but got text=\"n/a\".\n",
        "Writing ../data/csv/300913-NICE-Organogram-senior.csv\n",
        "Writing ../data/csv/300913-NICE-Organogram-junior.csv\n",
        "----------------------------------------\n",
        "Loading ../data/xls/300913-Natural-England-Organogram.xls\n",
        "Writing"
       ]
      },
      {
       "output_type": "stream",
       "stream": "stdout",
       "text": [
        " ../data/csv/300913-Natural-England-Organogram-senior.csv\n",
        "Writing ../data/csv/300913-Natural-England-Organogram-junior.csv\n",
        "----------------------------------------\n",
        "Loading ../data/xls/300913-OFFA-final.xls\n",
        "ERROR:"
       ]
      },
      {
       "output_type": "stream",
       "stream": "stdout",
       "text": [
        " Expected numeric values in column \"\", but got text=\"n/a\".\n",
        "Writing ../data/csv/300913-OFFA-final-senior.csv\n",
        "Writing ../data/csv/300913-OFFA-final-junior.csv\n",
        "----------------------------------------\n",
        "Loading ../data/xls/300913-OPO-Organogram-Ver1.xls\n",
        "Writing"
       ]
      },
      {
       "output_type": "stream",
       "stream": "stdout",
       "text": [
        " ../data/csv/300913-OPO-Organogram-Ver1-senior.csv\n",
        "Writing ../data/csv/300913-OPO-Organogram-Ver1-junior.csv\n",
        "----------------------------------------\n",
        "Loading ../data/xls/300913-SMG-Organogram-Data-v1.xls\n",
        "Writing"
       ]
      },
      {
       "output_type": "stream",
       "stream": "stdout",
       "text": [
        " ../data/csv/300913-SMG-Organogram-Data-v1-senior.csv\n",
        "Writing ../data/csv/300913-SMG-Organogram-Data-v1-junior.csv\n",
        "----------------------------------------\n",
        "Loading ../data/xls/300913-TWC_Ver.1.xls\n",
        "Writing"
       ]
      },
      {
       "output_type": "stream",
       "stream": "stdout",
       "text": [
        " ../data/csv/300913-TWC_Ver.1-senior.csv\n",
        "Writing ../data/csv/300913-TWC_Ver.1-junior.csv\n",
        "----------------------------------------\n",
        "Loading ../data/xls/300913-UK-Atomic-Energy-Authority-Organogram.xls\n",
        "Writing"
       ]
      },
      {
       "output_type": "stream",
       "stream": "stdout",
       "text": [
        " ../data/csv/300913-UK-Atomic-Energy-Authority-Organogram-senior.csv\n",
        "Writing ../data/csv/300913-UK-Atomic-Energy-Authority-Organogram-junior.csv\n",
        "----------------------------------------\n",
        "Loading ../data/xls/300913-UKStats-Organagram-ver-1.xls\n",
        "Writing"
       ]
      },
      {
       "output_type": "stream",
       "stream": "stdout",
       "text": [
        " ../data/csv/300913-UKStats-Organagram-ver-1-senior.csv\n",
        "Writing ../data/csv/300913-UKStats-Organagram-ver-1-junior.csv\n",
        "----------------------------------------"
       ]
      },
      {
       "output_type": "stream",
       "stream": "stdout",
       "text": [
        "\n",
        "Loading ../data/xls/300913-VMD-Organogram-new-template.xls\n",
        "Writing"
       ]
      },
      {
       "output_type": "stream",
       "stream": "stdout",
       "text": [
        " ../data/csv/300913-VMD-Organogram-new-template-senior.csv\n",
        "Writing ../data/csv/300913-VMD-Organogram-new-template-junior.csv\n",
        "----------------------------------------\n",
        "Loading ../data/xls/300913JNCC.xls\n",
        "Writing"
       ]
      },
      {
       "output_type": "stream",
       "stream": "stdout",
       "text": [
        " ../data/csv/300913JNCC-senior.csv\n",
        "Writing ../data/csv/300913JNCC-junior.csv\n",
        "----------------------------------------\n",
        "Loading ../data/xls/300913JNCC_Organogram_October_FINAL.xls\n",
        "Writing"
       ]
      },
      {
       "output_type": "stream",
       "stream": "stdout",
       "text": [
        " ../data/csv/300913JNCC_Organogram_October_FINAL-senior.csv\n",
        "Writing ../data/csv/300913JNCC_Organogram_October_FINAL-junior.csv\n",
        "----------------------------------------\n",
        "Loading ../data/xls/300913_JNCC.xls\n",
        "Writing"
       ]
      },
      {
       "output_type": "stream",
       "stream": "stdout",
       "text": [
        " ../data/csv/300913_JNCC-senior.csv\n",
        "Writing ../data/csv/300913_JNCC-junior.csv\n",
        "----------------------------------------\n",
        "Loading ../data/xls/300913_JNCC_Organogram_FINAL.xls\n",
        "Writing"
       ]
      },
      {
       "output_type": "stream",
       "stream": "stdout",
       "text": [
        " ../data/csv/300913_JNCC_Organogram_FINAL-senior.csv\n",
        "Writing ../data/csv/300913_JNCC_Organogram_FINAL-junior.csv\n",
        "----------------------------------------\n",
        "Loading ../data/xls/300913_JNCC_Organogram_September-2013-FINAL.xls\n",
        "Writing"
       ]
      },
      {
       "output_type": "stream",
       "stream": "stdout",
       "text": [
        " ../data/csv/300913_JNCC_Organogram_September-2013-FINAL-senior.csv\n",
        "Writing ../data/csv/300913_JNCC_Organogram_September-2013-FINAL-junior.csv\n",
        "----------------------------------------\n",
        "Loading ../data/xls/300913organogram.xls\n",
        "Writing"
       ]
      },
      {
       "output_type": "stream",
       "stream": "stdout",
       "text": [
        " ../data/csv/300913organogram-senior.csv\n",
        "Writing ../data/csv/300913organogram-junior.csv\n",
        "----------------------------------------\n",
        "Loading ../data/xls/30092013-SLC.xls\n",
        "Writing"
       ]
      },
      {
       "output_type": "stream",
       "stream": "stdout",
       "text": [
        " ../data/csv/30092013-SLC-senior.csv\n",
        "Writing ../data/csv/30092013-SLC-junior.csv\n",
        "----------------------------------------\n",
        "Loading ../data/xls/30092013-UKHO-Oranganogram-V1.xls\n",
        "Writing"
       ]
      },
      {
       "output_type": "stream",
       "stream": "stdout",
       "text": [
        " ../data/csv/30092013-UKHO-Oranganogram-V1-senior.csv\n",
        "Writing ../data/csv/30092013-UKHO-Oranganogram-V1-junior.csv\n",
        "----------------------------------------\n",
        "Loading ../data/xls/30092013_JNCC_Organogram_September-2013-FINAL.xls\n",
        "Writing"
       ]
      },
      {
       "output_type": "stream",
       "stream": "stdout",
       "text": [
        " ../data/csv/30092013_JNCC_Organogram_September-2013-FINAL-senior.csv\n",
        "Writing ../data/csv/30092013_JNCC_Organogram_September-2013-FINAL-junior.csv\n",
        "----------------------------------------\n",
        "Loading ../data/xls/AGO-government-staff-and-salary-data---Dec---final-v2.0.xls\n",
        "Writing"
       ]
      },
      {
       "output_type": "stream",
       "stream": "stdout",
       "text": [
        " ../data/csv/AGO-government-staff-and-salary-data---Dec---final-v2.0-senior.csv\n",
        "Writing ../data/csv/AGO-government-staff-and-salary-data---Dec---final-v2.0-junior.csv\n",
        "----------------------------------------\n",
        "Loading ../data/xls/AHVLA_30092013.xls\n",
        "ERROR:"
       ]
      },
      {
       "output_type": "stream",
       "stream": "stdout",
       "text": [
        " Expected numeric values in column \"Actual Pay Floor (\u00a3)\", but got text=\"N/a\".\n",
        "ERROR: Expected numeric values in column \"Actual Pay Ceiling (\u00a3)\", but got text=\"N/a\".\n",
        "Writing ../data/csv/AHVLA_30092013-senior.csv\n",
        "Writing ../data/csv/AHVLA_30092013-junior.csv\n",
        "----------------------------------------\n",
        "Loading ../data/xls/Acas-Sep-13.xls\n",
        "Writing"
       ]
      },
      {
       "output_type": "stream",
       "stream": "stdout",
       "text": [
        " ../data/csv/Acas-Sep-13-senior.csv\n",
        "Writing ../data/csv/Acas-Sep-13-junior.csv\n",
        "----------------------------------------\n",
        "Loading ../data/xls/BIS-Transparency-Return---Sept-2013.xls\n",
        "Writing"
       ]
      },
      {
       "output_type": "stream",
       "stream": "stdout",
       "text": [
        " ../data/csv/BIS-Transparency-Return---Sept-2013-senior.csv\n",
        "Writing ../data/csv/BIS-Transparency-Return---Sept-2013-junior.csv\n",
        "----------------------------------------\n",
        "Loading ../data/xls/British-Library-Staff-and-Salary-Data---September-2013.xls\n",
        "Writing"
       ]
      },
      {
       "output_type": "stream",
       "stream": "stdout",
       "text": [
        " ../data/csv/British-Library-Staff-and-Salary-Data---September-2013-senior.csv\n",
        "Writing ../data/csv/British-Library-Staff-and-Salary-Data---September-2013-junior.csv\n",
        "----------------------------------------\n",
        "Loading ../data/xls/British-Museum-staff-and-salary-data300913.xls\n",
        "Writing"
       ]
      },
      {
       "output_type": "stream",
       "stream": "stdout",
       "text": [
        " ../data/csv/British-Museum-staff-and-salary-data300913-senior.csv\n",
        "Writing ../data/csv/British-Museum-staff-and-salary-data300913-junior.csv\n",
        "----------------------------------------\n",
        "Loading ../data/xls/CICA-government-staff-and-salary-data-September-2013-FINAL.xls\n",
        "Writing"
       ]
      },
      {
       "output_type": "stream",
       "stream": "stdout",
       "text": [
        " ../data/csv/CICA-government-staff-and-salary-data-September-2013-FINAL-senior.csv\n",
        "Writing ../data/csv/CICA-government-staff-and-salary-data-September-2013-FINAL-junior.csv\n",
        "----------------------------------------\n",
        "Loading ../data/xls/Cabinet-Office-FINAL--30-Sept-2013.xls\n",
        "ERROR:"
       ]
      },
      {
       "output_type": "stream",
       "stream": "stdout",
       "text": [
        " Expected numeric values in column \"Actual Pay Floor (\u00a3)\", but got text=\"n/a\".\n",
        "ERROR: Expected numeric values in column \"Actual Pay Ceiling (\u00a3)\", but got text=\"n/a\".\n",
        "Writing ../data/csv/Cabinet-Office-FINAL--30-Sept-2013-senior.csv\n",
        "Writing ../data/csv/Cabinet-Office-FINAL--30-Sept-2013-junior.csv\n",
        "----------------------------------------"
       ]
      },
      {
       "output_type": "stream",
       "stream": "stdout",
       "text": [
        "\n",
        "Loading ../data/xls/Copy-of-300913-DWP.xls\n",
        "Writing"
       ]
      },
      {
       "output_type": "stream",
       "stream": "stdout",
       "text": [
        " ../data/csv/Copy-of-300913-DWP-senior.csv\n",
        "Writing ../data/csv/Copy-of-300913-DWP-junior.csv\n",
        "----------------------------------------"
       ]
      },
      {
       "output_type": "stream",
       "stream": "stdout",
       "text": [
        "\n",
        "Loading ../data/xls/Copy-of-Government-staff-and-salary-data-blank-template---September-2013-FINAL.xls\n",
        "Writing"
       ]
      },
      {
       "output_type": "stream",
       "stream": "stdout",
       "text": [
        " ../data/csv/Copy-of-Government-staff-and-salary-data-blank-template---September-2013-FINAL-senior.csv\n",
        "Writing ../data/csv/Copy-of-Government-staff-and-salary-data-blank-template---September-2013-FINAL-junior.csv\n",
        "----------------------------------------\n",
        "Loading ../data/xls/Copy-of-HEE-organogram---September-2013-cleaned.xls\n",
        "Writing"
       ]
      },
      {
       "output_type": "stream",
       "stream": "stdout",
       "text": [
        " ../data/csv/Copy-of-HEE-organogram---September-2013-cleaned-senior.csv\n",
        "Writing ../data/csv/Copy-of-HEE-organogram---September-2013-cleaned-junior.csv\n",
        "----------------------------------------"
       ]
      },
      {
       "output_type": "stream",
       "stream": "stdout",
       "text": [
        "\n",
        "Loading ../data/xls/Copy-of-NOMS-Agency-Transparency-Data---30-Sep-13.xls\n",
        "Writing"
       ]
      },
      {
       "output_type": "stream",
       "stream": "stdout",
       "text": [
        " ../data/csv/Copy-of-NOMS-Agency-Transparency-Data---30-Sep-13-senior.csv\n",
        "Writing ../data/csv/Copy-of-NOMS-Agency-Transparency-Data---30-Sep-13-junior.csv\n",
        "----------------------------------------"
       ]
      },
      {
       "output_type": "stream",
       "stream": "stdout",
       "text": [
        "\n",
        "Loading ../data/xls/DCLG-Government-staff-and-salary-data-blank-template---September-2013-FINAL.xls\n",
        "Writing"
       ]
      },
      {
       "output_type": "stream",
       "stream": "stdout",
       "text": [
        " ../data/csv/DCLG-Government-staff-and-salary-data-blank-template---September-2013-FINAL-senior.csv\n",
        "Writing ../data/csv/DCLG-Government-staff-and-salary-data-blank-template---September-2013-FINAL-junior.csv\n",
        "----------------------------------------"
       ]
      },
      {
       "output_type": "stream",
       "stream": "stdout",
       "text": [
        "\n",
        "Loading ../data/xls/DCMS-Government_staff_and_salary_data_-_September_2013.xls\n",
        "Writing"
       ]
      },
      {
       "output_type": "stream",
       "stream": "stdout",
       "text": [
        " ../data/csv/DCMS-Government_staff_and_salary_data_-_September_2013-senior.csv\n",
        "Writing ../data/csv/DCMS-Government_staff_and_salary_data_-_September_2013-junior.csv\n",
        "----------------------------------------\n",
        "Loading ../data/xls/DFID-staff-and-salary-data-template-Sept-2013a.xls\n",
        "Writing"
       ]
      },
      {
       "output_type": "stream",
       "stream": "stdout",
       "text": [
        " ../data/csv/DFID-staff-and-salary-data-template-Sept-2013a-senior.csv\n",
        "Writing ../data/csv/DFID-staff-and-salary-data-template-Sept-2013a-junior.csv\n",
        "----------------------------------------\n",
        "Loading ../data/xls/DMO-Organogram-disclosure---Sept-2013.xls\n",
        "Writing"
       ]
      },
      {
       "output_type": "stream",
       "stream": "stdout",
       "text": [
        " ../data/csv/DMO-Organogram-disclosure---Sept-2013-senior.csv\n",
        "Writing ../data/csv/DMO-Organogram-disclosure---Sept-2013-junior.csv\n",
        "----------------------------------------\n",
        "Loading ../data/xls/DSG_Govt_staff_and_salary_data_Sept13_FINAL.xls\n",
        "Writing"
       ]
      },
      {
       "output_type": "stream",
       "stream": "stdout",
       "text": [
        " ../data/csv/DSG_Govt_staff_and_salary_data_Sept13_FINAL-senior.csv\n",
        "Writing ../data/csv/DSG_Govt_staff_and_salary_data_Sept13_FINAL-junior.csv\n",
        "----------------------------------------\n",
        "Loading ../data/xls/DfE-Government-staff-and-salary-data-blank-template---September-2013-FINAL.xls\n",
        "Writing"
       ]
      },
      {
       "output_type": "stream",
       "stream": "stdout",
       "text": [
        " ../data/csv/DfE-Government-staff-and-salary-data-blank-template---September-2013-FINAL-senior.csv\n",
        "Writing ../data/csv/DfE-Government-staff-and-salary-data-blank-template---September-2013-FINAL-junior.csv\n",
        "----------------------------------------"
       ]
      },
      {
       "output_type": "stream",
       "stream": "stdout",
       "text": [
        "\n",
        "Loading ../data/xls/Disclosure-and-Barring-Service-300913.xls\n",
        "Writing"
       ]
      },
      {
       "output_type": "stream",
       "stream": "stdout",
       "text": [
        " ../data/csv/Disclosure-and-Barring-Service-300913-senior.csv\n",
        "Writing ../data/csv/Disclosure-and-Barring-Service-300913-junior.csv\n",
        "----------------------------------------\n",
        "Loading ../data/xls/ECITB-data-at-Sept-2013-for-pub-Dec-13.xls\n",
        "Writing"
       ]
      },
      {
       "output_type": "stream",
       "stream": "stdout",
       "text": [
        " ../data/csv/ECITB-data-at-Sept-2013-for-pub-Dec-13-senior.csv\n",
        "Writing ../data/csv/ECITB-data-at-Sept-2013-for-pub-Dec-13-junior.csv\n",
        "----------------------------------------\n",
        "Loading ../data/xls/Environment-Agency-September-2013-Final.xls\n",
        "ERROR:"
       ]
      },
      {
       "output_type": "stream",
       "stream": "stdout",
       "text": [
        " Expected numeric values in column \"Payscale Minimum (\u00a3)\", but got text=\"-\".\n",
        "ERROR: Expected numeric values in column \"Payscale Maximum (\u00a3)\", but got text=\"-\".\n",
        "Writing ../data/csv/Environment-Agency-September-2013-Final-senior.csv\n",
        "Writing ../data/csv/Environment-Agency-September-2013-Final-junior.csv\n",
        "----------------------------------------"
       ]
      },
      {
       "output_type": "stream",
       "stream": "stdout",
       "text": [
        "\n",
        "Loading ../data/xls/FCO-Government-staff-and-salary-data-blank-template---September-cleaned.xls\n",
        "Writing"
       ]
      },
      {
       "output_type": "stream",
       "stream": "stdout",
       "text": [
        " ../data/csv/FCO-Government-staff-and-salary-data-blank-template---September-cleaned-senior.csv\n",
        "Writing ../data/csv/FCO-Government-staff-and-salary-data-blank-template---September-cleaned-junior.csv\n",
        "----------------------------------------\n",
        "Loading ../data/xls/Gangmasters-Licensing-Authority-30.09.13.xls\n",
        "Writing"
       ]
      },
      {
       "output_type": "stream",
       "stream": "stdout",
       "text": [
        " ../data/csv/Gangmasters-Licensing-Authority-30.09.13-senior.csv\n",
        "Writing ../data/csv/Gangmasters-Licensing-Authority-30.09.13-junior.csv\n",
        "----------------------------------------\n",
        "Loading ../data/xls/Government-staff-and-salary-data--template---September-2013-FINAL.xls\n",
        "Writing"
       ]
      },
      {
       "output_type": "stream",
       "stream": "stdout",
       "text": [
        " ../data/csv/Government-staff-and-salary-data--template---September-2013-FINAL-senior.csv\n",
        "Writing ../data/csv/Government-staff-and-salary-data--template---September-2013-FINAL-junior.csv\n",
        "----------------------------------------\n",
        "Loading ../data/xls/Government-staff-and-salary-data-Nov-2013.xls\n",
        "Writing"
       ]
      },
      {
       "output_type": "stream",
       "stream": "stdout",
       "text": [
        " ../data/csv/Government-staff-and-salary-data-Nov-2013-senior.csv\n",
        "Writing ../data/csv/Government-staff-and-salary-data-Nov-2013-junior.csv\n",
        "----------------------------------------\n",
        "Loading ../data/xls/Government-staff-and-salary-data-blank-template---Sept-2013-Draft-3---Final.xls\n",
        "Writing"
       ]
      },
      {
       "output_type": "stream",
       "stream": "stdout",
       "text": [
        " ../data/csv/Government-staff-and-salary-data-blank-template---Sept-2013-Draft-3---Final-senior.csv\n",
        "Writing ../data/csv/Government-staff-and-salary-data-blank-template---Sept-2013-Draft-3---Final-junior.csv\n",
        "----------------------------------------\n",
        "Loading ../data/xls/Government-staff-and-salary-data-blank-template---September-2012-FINAL-updated.xls\n",
        "Writing"
       ]
      },
      {
       "output_type": "stream",
       "stream": "stdout",
       "text": [
        " ../data/csv/Government-staff-and-salary-data-blank-template---September-2012-FINAL-updated-senior.csv\n",
        "Writing ../data/csv/Government-staff-and-salary-data-blank-template---September-2012-FINAL-updated-junior.csv\n",
        "----------------------------------------\n",
        "Loading ../data/xls/Government-staff-and-salary-data-blank-template---September-2012-FINAL.xls\n",
        "ERROR:"
       ]
      },
      {
       "output_type": "stream",
       "stream": "stdout",
       "text": [
        " Expected numeric values in column \"Actual Pay Floor (\u00a3)\", but got text=\"60000-65000\".\n",
        "ERROR: Expected numeric values in column \"Actual Pay Floor (\u00a3)\", but got text=\"70000-75000\".\n",
        "ERROR: Expected numeric values in column \"Actual Pay Ceiling (\u00a3)\", but got text=\"60000-65000\".\n",
        "ERROR: Expected numeric values in column \"Actual Pay Ceiling (\u00a3)\", but got text=\"80000-85000\".\n",
        "ERROR: Expected numeric values in column \"Actual Pay Ceiling (\u00a3)\", but got text=\"110000-115000\".\n",
        "ERROR: Expected numeric values in column \"Actual Pay Floor (\u00a3)\", but got text=\"110000-115000\".\n",
        "ERROR: Expected numeric values in column \"Actual Pay Ceiling (\u00a3)\", but got text=\"70000-75000\".\n",
        "ERROR: Expected numeric values in column \"Actual Pay Floor (\u00a3)\", but got text=\"80000-85000\".\n",
        "Writing ../data/csv/Government-staff-and-salary-data-blank-template---September-2012-FINAL-senior.csv\n",
        "Writing ../data/csv/Government-staff-and-salary-data-blank-template---September-2012-FINAL-junior.csv\n",
        "----------------------------------------\n",
        "Loading ../data/xls/Government-staff-and-salary-data-blank-template---September-2013-FINAL.xls\n",
        "Writing"
       ]
      },
      {
       "output_type": "stream",
       "stream": "stdout",
       "text": [
        " ../data/csv/Government-staff-and-salary-data-blank-template---September-2013-FINAL-senior.csv\n",
        "Writing ../data/csv/Government-staff-and-salary-data-blank-template---September-2013-FINAL-junior.csv\n",
        "----------------------------------------\n",
        "Loading ../data/xls/Government-staff-and-salary-data-blank-template-FINAL-(4.8).xls\n",
        "Writing"
       ]
      },
      {
       "output_type": "stream",
       "stream": "stdout",
       "text": [
        " ../data/csv/Government-staff-and-salary-data-blank-template-FINAL-(4.8)-senior.csv\n",
        "Writing ../data/csv/Government-staff-and-salary-data-blank-template-FINAL-(4.8)-junior.csv\n",
        "----------------------------------------\n",
        "Loading ../data/xls/Government-staff-and-salary-data-for-MHRA---September-2013-FINAL-v2.xls\n",
        "Writing"
       ]
      },
      {
       "output_type": "stream",
       "stream": "stdout",
       "text": [
        " ../data/csv/Government-staff-and-salary-data-for-MHRA---September-2013-FINAL-v2-senior.csv\n",
        "Writing ../data/csv/Government-staff-and-salary-data-for-MHRA---September-2013-FINAL-v2-junior.csv\n",
        "----------------------------------------"
       ]
      },
      {
       "output_type": "stream",
       "stream": "stdout",
       "text": [
        "\n",
        "Loading ../data/xls/Government-staff-and-salary-data.-September-2013-UKAD-Dec-13-2.xls\n",
        "Writing"
       ]
      },
      {
       "output_type": "stream",
       "stream": "stdout",
       "text": [
        " ../data/csv/Government-staff-and-salary-data.-September-2013-UKAD-Dec-13-2-senior.csv\n",
        "Writing ../data/csv/Government-staff-and-salary-data.-September-2013-UKAD-Dec-13-2-junior.csv\n",
        "----------------------------------------\n",
        "Loading ../data/xls/Government-staff-and-salary-datablank-template---September-2013-FINAL.xls\n",
        "Writing"
       ]
      },
      {
       "output_type": "stream",
       "stream": "stdout",
       "text": [
        " ../data/csv/Government-staff-and-salary-datablank-template---September-2013-FINAL-senior.csv\n",
        "Writing ../data/csv/Government-staff-and-salary-datablank-template---September-2013-FINAL-junior.csv\n",
        "----------------------------------------\n",
        "Loading ../data/xls/Government-staff-and-salary-oisc---September-2013.xls\n",
        "Writing"
       ]
      },
      {
       "output_type": "stream",
       "stream": "stdout",
       "text": [
        " ../data/csv/Government-staff-and-salary-oisc---September-2013-senior.csv\n",
        "Writing ../data/csv/Government-staff-and-salary-oisc---September-2013-junior.csv\n",
        "----------------------------------------\n",
        "Loading ../data/xls/HM-Inspectorate-of-Prisons-September2013-FINAL.xls\n",
        "Writing"
       ]
      },
      {
       "output_type": "stream",
       "stream": "stdout",
       "text": [
        " ../data/csv/HM-Inspectorate-of-Prisons-September2013-FINAL-senior.csv\n",
        "Writing ../data/csv/HM-Inspectorate-of-Prisons-September2013-FINAL-junior.csv\n",
        "----------------------------------------\n",
        "Loading ../data/xls/HM-Inspectorate-of-Probation-310313-(2).xls\n",
        "Writing"
       ]
      },
      {
       "output_type": "stream",
       "stream": "stdout",
       "text": [
        " ../data/csv/HM-Inspectorate-of-Probation-310313-(2)-senior.csv\n",
        "Writing ../data/csv/HM-Inspectorate-of-Probation-310313-(2)-junior.csv\n",
        "----------------------------------------\n",
        "Loading ../data/xls/HM-Treasury-Government-staff-and-salary-data---September-2013-V5.xls\n",
        "Writing"
       ]
      },
      {
       "output_type": "stream",
       "stream": "stdout",
       "text": [
        " ../data/csv/HM-Treasury-Government-staff-and-salary-data---September-2013-V5-senior.csv\n",
        "Writing ../data/csv/HM-Treasury-Government-staff-and-salary-data---September-2013-V5-junior.csv\n",
        "----------------------------------------\n",
        "Loading ../data/xls/HMCPSI-government-staff-and-salary-data---Nov-valid-draft.xls\n",
        "Writing"
       ]
      },
      {
       "output_type": "stream",
       "stream": "stdout",
       "text": [
        " ../data/csv/HMCPSI-government-staff-and-salary-data---Nov-valid-draft-senior.csv\n",
        "Writing ../data/csv/HMCPSI-government-staff-and-salary-data---Nov-valid-draft-junior.csv\n",
        "----------------------------------------\n",
        "Loading ../data/xls/IPCC-Staff-and-salary-data---September-2013-FINAL.xls\n",
        "Writing"
       ]
      },
      {
       "output_type": "stream",
       "stream": "stdout",
       "text": [
        " ../data/csv/IPCC-Staff-and-salary-data---September-2013-FINAL-senior.csv\n",
        "Writing ../data/csv/IPCC-Staff-and-salary-data---September-2013-FINAL-junior.csv\n",
        "----------------------------------------\n",
        "Loading ../data/xls/Independent-Living-Fund-300913.xls\n",
        "Writing"
       ]
      },
      {
       "output_type": "stream",
       "stream": "stdout",
       "text": [
        " ../data/csv/Independent-Living-Fund-300913-senior.csv\n",
        "Writing ../data/csv/Independent-Living-Fund-300913-junior.csv\n",
        "----------------------------------------\n",
        "Loading ../data/xls/JAC-Senior-and-Junio-Staff-Return-September-2013-FINAL.xls\n",
        "Writing"
       ]
      },
      {
       "output_type": "stream",
       "stream": "stdout",
       "text": [
        " ../data/csv/JAC-Senior-and-Junio-Staff-Return-September-2013-FINAL-senior.csv\n",
        "Writing ../data/csv/JAC-Senior-and-Junio-Staff-Return-September-2013-FINAL-junior.csv\n",
        "----------------------------------------\n",
        "Loading ../data/xls/JNCC300913_Organogram_October_FINAL.xls\n",
        "Writing"
       ]
      },
      {
       "output_type": "stream",
       "stream": "stdout",
       "text": [
        " ../data/csv/JNCC300913_Organogram_October_FINAL-senior.csv\n",
        "Writing ../data/csv/JNCC300913_Organogram_October_FINAL-junior.csv\n",
        "----------------------------------------\n",
        "Loading ../data/xls/Junior-Staff_September-2013-FINAL.xls\n",
        "Writing"
       ]
      },
      {
       "output_type": "stream",
       "stream": "stdout",
       "text": [
        " ../data/csv/Junior-Staff_September-2013-FINAL-senior.csv\n",
        "Writing ../data/csv/Junior-Staff_September-2013-FINAL-junior.csv\n",
        "----------------------------------------\n",
        "Loading ../data/xls/LSB-Organagram-FINAL-(Sept-2013).xls\n",
        "Writing"
       ]
      },
      {
       "output_type": "stream",
       "stream": "stdout",
       "text": [
        " ../data/csv/LSB-Organagram-FINAL-(Sept-2013)-senior.csv\n",
        "Writing ../data/csv/LSB-Organagram-FINAL-(Sept-2013)-junior.csv\n",
        "----------------------------------------\n",
        "Loading ../data/xls/London-2012-Government-staff-and-salary-data-blank-template---Cleaned.xls\n",
        "Writing"
       ]
      },
      {
       "output_type": "stream",
       "stream": "stdout",
       "text": [
        " ../data/csv/London-2012-Government-staff-and-salary-data-blank-template---Cleaned-senior.csv\n",
        "Writing ../data/csv/London-2012-Government-staff-and-salary-data-blank-template---Cleaned-junior.csv\n",
        "----------------------------------------\n",
        "Loading ../data/xls/MOJ-2-government-staff-and-salary-data-September-2013-FINAL.xls\n",
        "Writing"
       ]
      },
      {
       "output_type": "stream",
       "stream": "stdout",
       "text": [
        " ../data/csv/MOJ-2-government-staff-and-salary-data-September-2013-FINAL-senior.csv\n",
        "Writing ../data/csv/MOJ-2-government-staff-and-salary-data-September-2013-FINAL-junior.csv\n",
        "----------------------------------------"
       ]
      },
      {
       "output_type": "stream",
       "stream": "stdout",
       "text": [
        "\n",
        "Loading ../data/xls/MRC-Organograms-Sep13-v1.xls\n",
        "ERROR:"
       ]
      },
      {
       "output_type": "stream",
       "stream": "stdout",
       "text": [
        " Expected numeric values in column \"Actual Pay Floor (\u00a3)\", but got text=\"n/a\".\n",
        "ERROR: Expected numeric values in column \"Actual Pay Ceiling (\u00a3)\", but got text=\"n/a\".\n",
        "Writing ../data/csv/MRC-Organograms-Sep13-v1-senior.csv\n",
        "Writing ../data/csv/MRC-Organograms-Sep13-v1-junior.csv\n",
        "----------------------------------------\n",
        "Loading ../data/xls/Monitor-staff-and-salary-data---September-2013-FINAL.xls\n",
        "Writing"
       ]
      },
      {
       "output_type": "stream",
       "stream": "stdout",
       "text": [
        " ../data/csv/Monitor-staff-and-salary-data---September-2013-FINAL-senior.csv\n",
        "Writing ../data/csv/Monitor-staff-and-salary-data---September-2013-FINAL-junior.csv\n",
        "----------------------------------------\n",
        "Loading ../data/xls/NICE-organogram-cleaned.xls\n",
        "Writing"
       ]
      },
      {
       "output_type": "stream",
       "stream": "stdout",
       "text": [
        " ../data/csv/NICE-organogram-cleaned-senior.csv\n",
        "Writing ../data/csv/NICE-organogram-cleaned-junior.csv\n",
        "----------------------------------------\n",
        "Loading ../data/xls/NMRN_organogramsept2013.xls\n",
        "ERROR:"
       ]
      },
      {
       "output_type": "stream",
       "stream": "stdout",
       "text": [
        " Expected numeric values in column \"Actual Pay Floor (\u00a3)\", but got text=\"n/a\".\n",
        "ERROR: Expected numeric values in column \"Actual Pay Ceiling (\u00a3)\", but got text=\"n/a\".\n",
        "Writing ../data/csv/NMRN_organogramsept2013-senior.csv\n",
        "Writing ../data/csv/NMRN_organogramsept2013-junior.csv\n",
        "----------------------------------------\n",
        "Loading ../data/xls/National-Army-Museum-copy.xls\n",
        "Writing"
       ]
      },
      {
       "output_type": "stream",
       "stream": "stdout",
       "text": [
        " ../data/csv/National-Army-Museum-copy-senior.csv\n",
        "Writing ../data/csv/National-Army-Museum-copy-junior.csv\n",
        "----------------------------------------\n",
        "Loading ../data/xls/OBR--staff-and-salary-data----September-2013-V2.xls\n",
        "Writing"
       ]
      },
      {
       "output_type": "stream",
       "stream": "stdout",
       "text": [
        " ../data/csv/OBR--staff-and-salary-data----September-2013-V2-senior.csv\n",
        "Writing ../data/csv/OBR--staff-and-salary-data----September-2013-V2-junior.csv\n",
        "----------------------------------------\n",
        "Loading ../data/xls/Organogram-Government-staff-and-salary-data-Passenger-Focus---September-2013-FINAL.xls\n",
        "Writing"
       ]
      },
      {
       "output_type": "stream",
       "stream": "stdout",
       "text": [
        " ../data/csv/Organogram-Government-staff-and-salary-data-Passenger-Focus---September-2013-FINAL-senior.csv\n",
        "Writing ../data/csv/Organogram-Government-staff-and-salary-data-Passenger-Focus---September-2013-FINAL-junior.csv\n",
        "----------------------------------------\n",
        "Loading ../data/xls/Organogram-spreadsheet---December-2013.xls\n",
        "ERROR:"
       ]
      },
      {
       "output_type": "stream",
       "stream": "stdout",
       "text": [
        " Expected numeric values in column \"Payscale Minimum (\u00a3)\", but got text=\"N/D\".\n",
        "ERROR: Expected numeric values in column \"Payscale Maximum (\u00a3)\", but got text=\"N/D\".\n",
        "Writing ../data/csv/Organogram-spreadsheet---December-2013-senior.csv\n",
        "Writing ../data/csv/Organogram-spreadsheet---December-2013-junior.csv\n",
        "----------------------------------------\n",
        "Loading ../data/xls/Parole-Board-310313_17.10.13.xls\n",
        "Writing"
       ]
      },
      {
       "output_type": "stream",
       "stream": "stdout",
       "text": [
        " ../data/csv/Parole-Board-310313_17.10.13-senior.csv\n",
        "Writing ../data/csv/Parole-Board-310313_17.10.13-junior.csv\n",
        "----------------------------------------\n",
        "Loading ../data/xls/Prisons-and-Probation-Ombudsman-300913.xls\n",
        "Writing"
       ]
      },
      {
       "output_type": "stream",
       "stream": "stdout",
       "text": [
        " ../data/csv/Prisons-and-Probation-Ombudsman-300913-senior.csv\n",
        "Writing ../data/csv/Prisons-and-Probation-Ombudsman-300913-junior.csv\n",
        "----------------------------------------\n",
        "Loading ../data/xls/RAF-Museum-Organogram-300913.xls\n",
        "Writing"
       ]
      },
      {
       "output_type": "stream",
       "stream": "stdout",
       "text": [
        " ../data/csv/RAF-Museum-Organogram-300913-senior.csv\n",
        "Writing ../data/csv/RAF-Museum-Organogram-300913-junior.csv\n",
        "----------------------------------------\n",
        "Loading ../data/xls/SOCA-staff-and-salary---Sept-2013.xls\n",
        "Writing"
       ]
      },
      {
       "output_type": "stream",
       "stream": "stdout",
       "text": [
        " ../data/csv/SOCA-staff-and-salary---Sept-2013-senior.csv\n",
        "Writing ../data/csv/SOCA-staff-and-salary---Sept-2013-junior.csv\n",
        "----------------------------------------\n",
        "Loading ../data/xls/STFC-September-2013-FINAL-ex-ELIMINATED.xls\n",
        "Writing"
       ]
      },
      {
       "output_type": "stream",
       "stream": "stdout",
       "text": [
        " ../data/csv/STFC-September-2013-FINAL-ex-ELIMINATED-senior.csv\n",
        "Writing ../data/csv/STFC-September-2013-FINAL-ex-ELIMINATED-junior.csv\n",
        "----------------------------------------\n",
        "Loading ../data/xls/Salary-disclosure-September-2013.xls\n",
        "Writing"
       ]
      },
      {
       "output_type": "stream",
       "stream": "stdout",
       "text": [
        " ../data/csv/Salary-disclosure-September-2013-senior.csv\n",
        "Writing ../data/csv/Salary-disclosure-September-2013-junior.csv\n",
        "----------------------------------------\n",
        "Loading ../data/xls/TSol-government-staff-and-salary-data---Dec-2013-v2.xls\n",
        "Writing"
       ]
      },
      {
       "output_type": "stream",
       "stream": "stdout",
       "text": [
        " ../data/csv/TSol-government-staff-and-salary-data---Dec-2013-v2-senior.csv\n",
        "Writing ../data/csv/TSol-government-staff-and-salary-data---Dec-2013-v2-junior.csv\n",
        "----------------------------------------\n",
        "Loading ../data/xls/Transparency-return-Judicial-Office-FINAL.xls\n",
        "Writing"
       ]
      },
      {
       "output_type": "stream",
       "stream": "stdout",
       "text": [
        " ../data/csv/Transparency-return-Judicial-Office-FINAL-senior.csv\n",
        "Writing ../data/csv/Transparency-return-Judicial-Office-FINAL-junior.csv\n",
        "----------------------------------------\n",
        "Loading ../data/xls/UK-space-agency-September-2013-FINAL.xls\n",
        "Writing"
       ]
      },
      {
       "output_type": "stream",
       "stream": "stdout",
       "text": [
        " ../data/csv/UK-space-agency-September-2013-FINAL-senior.csv\n",
        "Writing ../data/csv/UK-space-agency-September-2013-FINAL-junior.csv\n",
        "----------------------------------------\n",
        "Loading ../data/xls/YJB-310313-(2).xls\n",
        "Writing"
       ]
      },
      {
       "output_type": "stream",
       "stream": "stdout",
       "text": [
        " ../data/csv/YJB-310313-(2)-senior.csv\n",
        "Writing ../data/csv/YJB-310313-(2)-junior.csv\n",
        "----------------------------------------\n",
        "Loading ../data/xls/clean-version-of-DWP-September-2013.xls\n",
        "Writing"
       ]
      },
      {
       "output_type": "stream",
       "stream": "stdout",
       "text": [
        " ../data/csv/clean-version-of-DWP-September-2013-senior.csv\n",
        "Writing ../data/csv/clean-version-of-DWP-September-2013-junior.csv\n",
        "----------------------------------------"
       ]
      },
      {
       "output_type": "stream",
       "stream": "stdout",
       "text": [
        "\n",
        "Loading ../data/xls/government-staff-and-salary-data-FINAL--September-2013.xls\n",
        "Writing"
       ]
      },
      {
       "output_type": "stream",
       "stream": "stdout",
       "text": [
        " ../data/csv/government-staff-and-salary-data-FINAL--September-2013-senior.csv\n",
        "Writing ../data/csv/government-staff-and-salary-data-FINAL--September-2013-junior.csv\n",
        "----------------------------------------\n",
        "Loading ../data/xls/government-staff-and-salary-data-blank-template---Sept-2013.xls\n",
        "Writing"
       ]
      },
      {
       "output_type": "stream",
       "stream": "stdout",
       "text": [
        " ../data/csv/government-staff-and-salary-data-blank-template---Sept-2013-senior.csv\n",
        "Writing ../data/csv/government-staff-and-salary-data-blank-template---Sept-2013-junior.csv\n",
        "----------------------------------------\n",
        "Loading ../data/xls/government-staff-and-salary-data-template---FinalTemplateSept2013.xls\n",
        "Writing"
       ]
      },
      {
       "output_type": "stream",
       "stream": "stdout",
       "text": [
        " ../data/csv/government-staff-and-salary-data-template---FinalTemplateSept2013-senior.csv\n",
        "Writing ../data/csv/government-staff-and-salary-data-template---FinalTemplateSept2013-junior.csv\n",
        "----------------------------------------\n",
        "Loading ../data/xls/sia-copy.xls\n",
        "Writing"
       ]
      },
      {
       "output_type": "stream",
       "stream": "stdout",
       "text": [
        " ../data/csv/sia-copy-senior.csv\n",
        "Writing ../data/csv/sia-copy-junior.csv\n",
        "========================================\n",
        "Writing index file: ../data/csv/index.json\n",
        "Done.\n"
       ]
      }
     ],
     "prompt_number": 8
    },
    {
     "cell_type": "code",
     "collapsed": false,
     "input": [
      "index"
     ],
     "language": "python",
     "metadata": {},
     "outputs": [
      {
       "metadata": {},
       "output_type": "pyout",
       "prompt_number": 9,
       "text": [
        "[{'name': u'Advisory, Conciliation and Arbitration Service',\n",
        "  'value': 'Acas-Sep-13'},\n",
        " {'name': u'Advisory, Conciliation and Arbitration Service',\n",
        "  'value': 'Government-staff-and-salary-datablank-template---September-2013-FINAL'},\n",
        " {'name': u'Animal Health and Veterinary Laboratories Agency',\n",
        "  'value': 'AHVLA_30092013'},\n",
        " {'name': u'Arts and Humanities Research Council',\n",
        "  'value': '300913---AHRC---Transparency-Organogram1'},\n",
        " {'name': u\"Attorney General's Office\",\n",
        "  'value': 'AGO-government-staff-and-salary-data---Dec---final-v2.0'},\n",
        " {'name': u'Biotechnology and Biological Sciences Research Council',\n",
        "  'value': 'BIS-Transparency-Return---Sept-2013'},\n",
        " {'name': u'British Museum',\n",
        "  'value': 'British-Museum-staff-and-salary-data300913'},\n",
        " {'name': u'British Transport Police Authority',\n",
        "  'value': '20131128-BTPA-Organogram-Return-for-20130930'},\n",
        " {'name': u'CCWater', 'value': 'Government-staff-and-salary-data-Nov-2013'},\n",
        " {'name': u'CEFAS',\n",
        "  'value': 'government-staff-and-salary-data-FINAL--September-2013'},\n",
        " {'name': u'Cabinet Office & Department for Communities and Local Government',\n",
        "  'value': 'Cabinet-Office-FINAL--30-Sept-2013'},\n",
        " {'name': u'Care Quality Commission',\n",
        "  'value': 'Government-staff-and-salary-data-blank-template---September-2012-FINAL-updated'},\n",
        " {'name': u'Civil Service Learning',\n",
        "  'value': '130930-Civil-Service-Learning-Organogram-Data'},\n",
        " {'name': u'Commission for Equality and Human Rights (known as the Equality and Human Rights Commission)',\n",
        "  'value': 'Government-staff-and-salary-data-blank-template---September-2013-FINAL'},\n",
        " {'name': u'Competition Commission',\n",
        "  'value': '300913-Competition-Commission-staff-and-salary-data---September-2013'},\n",
        " {'name': u'Criminal Injuries Compensation Authority',\n",
        "  'value': 'CICA-government-staff-and-salary-data-September-2013-FINAL'},\n",
        " {'name': u'Crown Prosecution Service', 'value': '300913-CPS-Organogram-v0.1'},\n",
        " {'name': u'DFID', 'value': 'DFID-staff-and-salary-data-template-Sept-2013a'},\n",
        " {'name': u'Defence Support Group (DSG)',\n",
        "  'value': 'DSG_Govt_staff_and_salary_data_Sept13_FINAL'},\n",
        " {'name': u'Department for Communities and Local Government',\n",
        "  'value': 'DCLG-Government-staff-and-salary-data-blank-template---September-2013-FINAL'},\n",
        " {'name': u'Department for Culture, Media and Sport',\n",
        "  'value': 'DCMS-Government_staff_and_salary_data_-_September_2013'},\n",
        " {'name': u'Department for Environment, Food and Rural Affairs',\n",
        "  'value': '300913-Defra-Organogram-ver-2'},\n",
        " {'name': u'Department for Work and Pensions', 'value': '300913-DWP.xls'},\n",
        " {'name': u'Department for Work and Pensions', 'value': 'Copy-of-300913-DWP'},\n",
        " {'name': u'Department for Work and Pensions',\n",
        "  'value': 'clean-version-of-DWP-September-2013'},\n",
        " {'name': u'Department of Energy and Climate Change',\n",
        "  'value': '300913-DECC-organogram'},\n",
        " {'name': u'Department of Health', 'value': '011013-DH---Organogram'},\n",
        " {'name': u'Disclosure and Barring Service',\n",
        "  'value': 'Disclosure-and-Barring-Service-300913'},\n",
        " {'name': u'ECITB', 'value': 'ECITB-data-at-Sept-2013-for-pub-Dec-13'},\n",
        " {'name': u'Economic & Social Research Council',\n",
        "  'value': '300913---ESRC---Transparency-Organogram'},\n",
        " {'name': u'Engineering & Physical Sciences Research Council',\n",
        "  'value': '300913---EPSRC---Transparency-Organogram'},\n",
        " {'name': u'English Heritage', 'value': '30-09-13---EH---organogram---ver1'},\n",
        " {'name': u'Environment Agency',\n",
        "  'value': 'Environment-Agency-September-2013-Final'},\n",
        " {'name': u'Foreign and Commonwealth office & Foreign and Commonwealth Office & UK Trade & Investment & Wilton Park',\n",
        "  'value': 'FCO-Government-staff-and-salary-data-blank-template---September-cleaned'},\n",
        " {'name': u'Forestry Commission', 'value': '300913-FC-ORGANOGRAM'},\n",
        " {'name': u'Gangmasters Licensing Authority',\n",
        "  'value': 'Gangmasters-Licensing-Authority-30.09.13'},\n",
        " {'name': u'Geffrye Museum',\n",
        "  'value': 'government-staff-and-salary-data-blank-template---Sept-2013'},\n",
        " {'name': u'Government Procurement Service',\n",
        "  'value': '300913-GPS-Organogram-Ver-1'},\n",
        " {'name': u'HM Crown Prosecution Service Inspectorate',\n",
        "  'value': 'HMCPSI-government-staff-and-salary-data---Nov-valid-draft'},\n",
        " {'name': u'HM Inspectorate of Constabulary',\n",
        "  'value': '130930-HMIC-Organogram-Data'},\n",
        " {'name': u'HM Inspectorate of Prisons',\n",
        "  'value': 'HM-Inspectorate-of-Prisons-September2013-FINAL'},\n",
        " {'name': u'HM Treasury',\n",
        "  'value': 'HM-Treasury-Government-staff-and-salary-data---September-2013-V5'},\n",
        " {'name': u'HMI Probation',\n",
        "  'value': 'HM-Inspectorate-of-Probation-310313-(2)'},\n",
        " {'name': u'Health Education England & Health Education EnglandEd & Health Education England ',\n",
        "  'value': 'Copy-of-HEE-organogram---September-2013-cleaned'},\n",
        " {'name': u'Health and Safety Executive',\n",
        "  'value': '300913-HSE-Organogram-ver1'},\n",
        " {'name': u\"Her Majesty's Passport Office\",\n",
        "  'value': '130930-Her-Majesty-Passport-Office-Organogram-Data'},\n",
        " {'name': u\"Her Majesty's Revenue and Customs\",\n",
        "  'value': '300913-HMRC-Organogram-Final'},\n",
        " {'name': u'High Speed 2 Ltd',\n",
        "  'value': 'Government-staff-and-salary-data-blank-template---Sept-2013-Draft-3---Final'},\n",
        " {'name': u'Higher Education Funding Council for England',\n",
        "  'value': '300913-HEFCE'},\n",
        " {'name': u'Home Office', 'value': '130930-Home-Office-Organogram-Data'},\n",
        " {'name': u'Horserace Betting Levy Board',\n",
        "  'value': 'Organogram-spreadsheet---December-2013'},\n",
        " {'name': u'Independent Living Fund',\n",
        "  'value': 'Independent-Living-Fund-300913'},\n",
        " {'name': u'Independent Police Complaints Commission',\n",
        "  'value': 'IPCC-Staff-and-salary-data---September-2013-FINAL'},\n",
        " {'name': u'Joint Nature Conservation Committee', 'value': '300913JNCC'},\n",
        " {'name': u'Joint Nature Conservation Committee',\n",
        "  'value': '300913JNCC_Organogram_October_FINAL'},\n",
        " {'name': u'Joint Nature Conservation Committee', 'value': '300913_JNCC'},\n",
        " {'name': u'Joint Nature Conservation Committee',\n",
        "  'value': '300913_JNCC_Organogram_FINAL'},\n",
        " {'name': u'Joint Nature Conservation Committee',\n",
        "  'value': '300913_JNCC_Organogram_September-2013-FINAL'},\n",
        " {'name': u'Joint Nature Conservation Committee',\n",
        "  'value': '30092013_JNCC_Organogram_September-2013-FINAL'},\n",
        " {'name': u'Joint Nature Conservation Committee',\n",
        "  'value': 'Government-staff-and-salary-data--template---September-2013-FINAL'},\n",
        " {'name': u'Joint Nature Conservation Committee',\n",
        "  'value': 'JNCC300913_Organogram_October_FINAL'},\n",
        " {'name': u'Joint Nature Conservation Committee',\n",
        "  'value': 'Junior-Staff_September-2013-FINAL'},\n",
        " {'name': u'Judcial Office for England and Wales',\n",
        "  'value': 'Transparency-return-Judicial-Office-FINAL'},\n",
        " {'name': u'Judicial Appointments Commission.',\n",
        "  'value': 'JAC-Senior-and-Junio-Staff-Return-September-2013-FINAL'},\n",
        " {'name': u'Land Registry', 'value': '300913-Land-Registry-Organogram'},\n",
        " {'name': u'Legal Services Board',\n",
        "  'value': 'LSB-Organagram-FINAL-(Sept-2013)'},\n",
        " {'name': u'MHRA',\n",
        "  'value': 'Government-staff-and-salary-data-for-MHRA---September-2013-FINAL-v2'},\n",
        " {'name': u'Marine Management Organisation',\n",
        "  'value': 'Salary-disclosure-September-2013'},\n",
        " {'name': u'Medical Research Council ', 'value': 'MRC-Organograms-Sep13-v1'},\n",
        " {'name': u'Ministry of Defence - Army',\n",
        "  'value': '20140214-Army_GTA_Organogram_Sep2013_Final-U'},\n",
        " {'name': u'Ministry of Defence - Defence Equipment and Support',\n",
        "  'value': '20131202-DES_OCT_13_organogram_FINAL_U'},\n",
        " {'name': u'Ministry of Defence - Defence Infrastructure Organisation',\n",
        "  'value': '20131021-DIO_Data_Organogram_Sept_2013-U'},\n",
        " {'name': u'Ministry of Defence - Defence Science and Technology Laboratory',\n",
        "  'value': '20130913-DSTL_Organogram_Final'},\n",
        " {'name': u'Ministry of Defence - Head Office and Corporate Services',\n",
        "  'value': '20131114-HOCS-Consolidated-September-2013-FINAL'},\n",
        " {'name': u'Ministry of Defence - Joint Forces Command',\n",
        "  'value': '20131217-JFC-Transparency_Organogram_Return_September_2013-U'},\n",
        " {'name': u'Ministry of Defence - National Army Museum',\n",
        "  'value': 'National-Army-Museum-copy'},\n",
        " {'name': u'Ministry of Defence - Navy Command',\n",
        "  'value': '20131002-NC-Govt-Transparency-Sept-2013_20140127_FINAL'},\n",
        " {'name': u'Ministry of Defence - Royal Air Force Air Command',\n",
        "  'value': '20131002-300913_Air_Govt_Data_Template-u'},\n",
        " {'name': u'Ministry of Justice',\n",
        "  'value': 'MOJ-2-government-staff-and-salary-data-September-2013-FINAL'},\n",
        " {'name': u'Monitor',\n",
        "  'value': 'Monitor-staff-and-salary-data---September-2013-FINAL'},\n",
        " {'name': u'NHS Blood & Transplant',\n",
        "  'value': 'government-staff-and-salary-data-template---FinalTemplateSept2013'},\n",
        " {'name': u'NHS Business Services Authority',\n",
        "  'value': '300913-NHS-Business-Services-Authority'},\n",
        " {'name': u'NHS England', 'value': '300913-NHSEngland-Organogram-ver4'},\n",
        " {'name': u'NHS LA', 'value': '060413-NHSLA-organogram-ver4'},\n",
        " {'name': u'National Fraud Authority',\n",
        "  'value': '130930-National-Fraud-Authority-Organogram-Data'},\n",
        " {'name': u'National Institute for Health and Care Excellence',\n",
        "  'value': '300913-NICE-Organogram'},\n",
        " {'name': u'National Institute for Health and Care Excellence',\n",
        "  'value': 'NICE-organogram-cleaned'},\n",
        " {'name': u'National Museum of the Royal Navy',\n",
        "  'value': 'NMRN_organogramsept2013'},\n",
        " {'name': u'National Offender Management Service (NOMS)',\n",
        "  'value': 'Copy-of-NOMS-Agency-Transparency-Data---30-Sep-13'},\n",
        " {'name': u'Natural England', 'value': '300913-Natural-England-Organogram'},\n",
        " {'name': u'Office for Budget Responsibility ',\n",
        "  'value': 'OBR--staff-and-salary-data----September-2013-V2'},\n",
        " {'name': u'Office for Fair Access', 'value': '300913-OFFA-final'},\n",
        " {'name': u'Office of the Immigration Services Commissioner',\n",
        "  'value': 'Government-staff-and-salary-oisc---September-2013'},\n",
        " {'name': u'Office of the Pensions Ombudsman',\n",
        "  'value': '300913-OPO-Organogram-Ver1'},\n",
        " {'name': u'Olympic Delivery Authority',\n",
        "  'value': 'London-2012-Government-staff-and-salary-data-blank-template---Cleaned'},\n",
        " {'name': u'Passenger Focus',\n",
        "  'value': 'Organogram-Government-staff-and-salary-data-Passenger-Focus---September-2013-FINAL'},\n",
        " {'name': u'Prison & Probation Ombudsman',\n",
        "  'value': 'Prisons-and-Probation-Ombudsman-300913'},\n",
        " {'name': u'Royal Air Force Museum', 'value': 'RAF-Museum-Organogram-300913'},\n",
        " {'name': u'Royal Museums Greenwich',\n",
        "  'value': 'Government-staff-and-salary-data-blank-template---September-2012-FINAL'},\n",
        " {'name': u'Rural Payments Agency',\n",
        "  'value': 'Government-staff-and-salary-data-blank-template-FINAL-(4.8)'},\n",
        " {'name': u'SIA', 'value': 'sia-copy'},\n",
        " {'name': u'SOCA', 'value': 'SOCA-staff-and-salary---Sept-2013'},\n",
        " {'name': u'Science Museum Group', 'value': '300913-SMG-Organogram-Data-v1'},\n",
        " {'name': u'Science and Technology Facilities Council',\n",
        "  'value': 'STFC-September-2013-FINAL-ex-ELIMINATED'},\n",
        " {'name': u'Sport England', 'value': '011113-SE-data'},\n",
        " {'name': u'Standards and Testing Agency & National College & Education Funding Agency & Department For Education',\n",
        "  'value': 'DfE-Government-staff-and-salary-data-blank-template---September-2013-FINAL'},\n",
        " {'name': u'Student Loans Company', 'value': '30092013-SLC'},\n",
        " {'name': u'The British Library',\n",
        "  'value': 'British-Library-Staff-and-Salary-Data---September-2013'},\n",
        " {'name': u'The National Gallery', 'value': '300913-NG-Organogram-Ver1'},\n",
        " {'name': u'The Natural History Museum',\n",
        "  'value': 'Copy-of-Government-staff-and-salary-data-blank-template---September-2013-FINAL'},\n",
        " {'name': u'The Parole Board for England & Wales',\n",
        "  'value': 'Parole-Board-310313_17.10.13'},\n",
        " {'name': u'The Queen Elizabeth II Conference Centre',\n",
        "  'value': '300912-government-staff-and-salary-data-QEIICC---Oct-2013'},\n",
        " {'name': u'Treasury Solicitors',\n",
        "  'value': 'TSol-government-staff-and-salary-data---Dec-2013-v2'},\n",
        " {'name': u'UK Anti-Doping',\n",
        "  'value': 'Government-staff-and-salary-data.-September-2013-UKAD-Dec-13-2'},\n",
        " {'name': u'UK Atomic Energy Authority',\n",
        "  'value': '300913-UK-Atomic-Energy-Authority-Organogram'},\n",
        " {'name': u'UK DMO', 'value': 'DMO-Organogram-disclosure---Sept-2013'},\n",
        " {'name': u'UK Space Agency', 'value': 'UK-space-agency-September-2013-FINAL'},\n",
        " {'name': u'UK Statistics Authority',\n",
        "  'value': '300913-UKStats-Organagram-ver-1'},\n",
        " {'name': u'United Kingdom Hydrographic Office',\n",
        "  'value': '30092013-UKHO-Oranganogram-V1'},\n",
        " {'name': u'Veterinary Medicines Directorate',\n",
        "  'value': '300913-VMD-Organogram-new-template'},\n",
        " {'name': u'Wales Office', 'value': '300913organogram'},\n",
        " {'name': u'Wallace Collection', 'value': '300913-TWC_Ver.1'},\n",
        " {'name': u'Youth Justice Board', 'value': 'YJB-310313-(2)'}]"
       ]
      }
     ],
     "prompt_number": 9
    },
    {
     "cell_type": "code",
     "collapsed": false,
     "input": [
      "f = \"xls/AGO-government-staff-and-salary-data---Dec---final-v2.0.xls\"\n",
      "errors = []\n",
      "senior = load_senior(f,errors)\n",
      "senior"
     ],
     "language": "python",
     "metadata": {},
     "outputs": [
      {
       "html": [
        "<div style=\"max-height:1000px;max-width:1500px;overflow:auto;\">\n",
        "<table border=\"1\" class=\"dataframe\">\n",
        "  <thead>\n",
        "    <tr style=\"text-align: right;\">\n",
        "      <th></th>\n",
        "      <th>Post Unique Reference</th>\n",
        "      <th>Name</th>\n",
        "      <th>Grade</th>\n",
        "      <th>Job Title</th>\n",
        "      <th>Job/Team Function</th>\n",
        "      <th>Parent Department</th>\n",
        "      <th>Organisation</th>\n",
        "      <th>Unit</th>\n",
        "      <th>Contact Phone</th>\n",
        "      <th>Contact E-mail</th>\n",
        "      <th>Reports to Senior Post</th>\n",
        "      <th>Salary Cost of Reports (\u00a3)</th>\n",
        "      <th>FTE</th>\n",
        "      <th>Actual Pay Floor (\u00a3)</th>\n",
        "      <th>Actual Pay Ceiling (\u00a3)</th>\n",
        "      <th></th>\n",
        "      <th>Professional/Occupational Group</th>\n",
        "      <th>Notes</th>\n",
        "      <th>Valid?</th>\n",
        "    </tr>\n",
        "  </thead>\n",
        "  <tbody>\n",
        "    <tr>\n",
        "      <th>0</th>\n",
        "      <td> AGO1</td>\n",
        "      <td> Rowena Collins-Rice</td>\n",
        "      <td> SCS3</td>\n",
        "      <td> Director General and Legal Secretary </td>\n",
        "      <td> Director General and Legal Secretary for the A...</td>\n",
        "      <td> Attorney General's Office</td>\n",
        "      <td> Attorney General's Office</td>\n",
        "      <td> Head of Attorney General's Office</td>\n",
        "      <td> 2072102412</td>\n",
        "      <td> Rowena.Collins-Rice@attorneygeneral.gsi.gov.uk</td>\n",
        "      <td>   XX</td>\n",
        "      <td> 731150</td>\n",
        "      <td> 1.0</td>\n",
        "      <td> 130000</td>\n",
        "      <td> 134999</td>\n",
        "      <td> 130000</td>\n",
        "      <td> Law</td>\n",
        "      <td>NaN</td>\n",
        "      <td> 1</td>\n",
        "    </tr>\n",
        "    <tr>\n",
        "      <th>1</th>\n",
        "      <td> AGO2</td>\n",
        "      <td>       Kevin McGinty</td>\n",
        "      <td> SCS2</td>\n",
        "      <td>                Deputy Legal Secretary</td>\n",
        "      <td> Deputy Legal Secretary for the Attorney Genera...</td>\n",
        "      <td> Attorney General's Office</td>\n",
        "      <td> Attorney General's Office</td>\n",
        "      <td>        Criminal Law &amp; Policy Team</td>\n",
        "      <td> 2072712418</td>\n",
        "      <td>       kevin.mcginty@attorneygeneral.gsi.gov.uk</td>\n",
        "      <td> AGO1</td>\n",
        "      <td> 213607</td>\n",
        "      <td> 1.0</td>\n",
        "      <td>  80000</td>\n",
        "      <td>  84999</td>\n",
        "      <td>  84000</td>\n",
        "      <td> Law</td>\n",
        "      <td>NaN</td>\n",
        "      <td> 1</td>\n",
        "    </tr>\n",
        "    <tr>\n",
        "      <th>2</th>\n",
        "      <td> AGO3</td>\n",
        "      <td>                 N/D</td>\n",
        "      <td> SCS1</td>\n",
        "      <td>           Deputy Director - Civil Law</td>\n",
        "      <td> Provide management for the Public &amp; Civil Law ...</td>\n",
        "      <td> Attorney General's Office</td>\n",
        "      <td> Attorney General's Office</td>\n",
        "      <td>           Public &amp; Civil Law Team</td>\n",
        "      <td> 2072712492</td>\n",
        "      <td>                                            N/D</td>\n",
        "      <td> AGO1</td>\n",
        "      <td> 335860</td>\n",
        "      <td> 0.8</td>\n",
        "      <td>      0</td>\n",
        "      <td>      0</td>\n",
        "      <td>      0</td>\n",
        "      <td> Law</td>\n",
        "      <td>NaN</td>\n",
        "      <td> 1</td>\n",
        "    </tr>\n",
        "    <tr>\n",
        "      <th>3</th>\n",
        "      <td> AGO4</td>\n",
        "      <td>                 N/D</td>\n",
        "      <td> SCS1</td>\n",
        "      <td>        Deputy Director - Criminal Law</td>\n",
        "      <td> Provide management for the Criminal Law &amp; Poli...</td>\n",
        "      <td> Attorney General's Office</td>\n",
        "      <td> Attorney General's Office</td>\n",
        "      <td>        Criminal Law &amp; Policy Team</td>\n",
        "      <td> 2072712492</td>\n",
        "      <td>                                            N/D</td>\n",
        "      <td> AGO2</td>\n",
        "      <td> 623872</td>\n",
        "      <td> 1.0</td>\n",
        "      <td>      0</td>\n",
        "      <td>      0</td>\n",
        "      <td>      0</td>\n",
        "      <td> Law</td>\n",
        "      <td>NaN</td>\n",
        "      <td> 1</td>\n",
        "    </tr>\n",
        "    <tr>\n",
        "      <th>4</th>\n",
        "      <td> AGO5</td>\n",
        "      <td>                 N/D</td>\n",
        "      <td> SCS1</td>\n",
        "      <td>   Deputy Director - International Law</td>\n",
        "      <td>      Provide management for the International Law</td>\n",
        "      <td> Attorney General's Office</td>\n",
        "      <td> Attorney General's Office</td>\n",
        "      <td>                 International Law</td>\n",
        "      <td> 2072712492</td>\n",
        "      <td>                                            N/D</td>\n",
        "      <td> AGO1</td>\n",
        "      <td>      0</td>\n",
        "      <td> 1.0</td>\n",
        "      <td>      0</td>\n",
        "      <td>      0</td>\n",
        "      <td>      0</td>\n",
        "      <td> Law</td>\n",
        "      <td>NaN</td>\n",
        "      <td> 1</td>\n",
        "    </tr>\n",
        "  </tbody>\n",
        "</table>\n",
        "<p>5 rows \u00d7 19 columns</p>\n",
        "</div>"
       ],
       "metadata": {},
       "output_type": "pyout",
       "prompt_number": 125,
       "text": [
        "  Post Unique Reference                 Name Grade  \\\n",
        "0                  AGO1  Rowena Collins-Rice  SCS3   \n",
        "1                  AGO2        Kevin McGinty  SCS2   \n",
        "2                  AGO3                  N/D  SCS1   \n",
        "3                  AGO4                  N/D  SCS1   \n",
        "4                  AGO5                  N/D  SCS1   \n",
        "\n",
        "                               Job Title  \\\n",
        "0  Director General and Legal Secretary    \n",
        "1                 Deputy Legal Secretary   \n",
        "2            Deputy Director - Civil Law   \n",
        "3         Deputy Director - Criminal Law   \n",
        "4    Deputy Director - International Law   \n",
        "\n",
        "                                   Job/Team Function  \\\n",
        "0  Director General and Legal Secretary for the A...   \n",
        "1  Deputy Legal Secretary for the Attorney Genera...   \n",
        "2  Provide management for the Public & Civil Law ...   \n",
        "3  Provide management for the Criminal Law & Poli...   \n",
        "4       Provide management for the International Law   \n",
        "\n",
        "           Parent Department               Organisation  \\\n",
        "0  Attorney General's Office  Attorney General's Office   \n",
        "1  Attorney General's Office  Attorney General's Office   \n",
        "2  Attorney General's Office  Attorney General's Office   \n",
        "3  Attorney General's Office  Attorney General's Office   \n",
        "4  Attorney General's Office  Attorney General's Office   \n",
        "\n",
        "                                Unit  Contact Phone  \\\n",
        "0  Head of Attorney General's Office     2072102412   \n",
        "1         Criminal Law & Policy Team     2072712418   \n",
        "2            Public & Civil Law Team     2072712492   \n",
        "3         Criminal Law & Policy Team     2072712492   \n",
        "4                  International Law     2072712492   \n",
        "\n",
        "                                   Contact E-mail Reports to Senior Post  \\\n",
        "0  Rowena.Collins-Rice@attorneygeneral.gsi.gov.uk                     XX   \n",
        "1        kevin.mcginty@attorneygeneral.gsi.gov.uk                   AGO1   \n",
        "2                                             N/D                   AGO1   \n",
        "3                                             N/D                   AGO2   \n",
        "4                                             N/D                   AGO1   \n",
        "\n",
        "   Salary Cost of Reports (\u00a3)  FTE  Actual Pay Floor (\u00a3)  \\\n",
        "0                      731150  1.0                130000   \n",
        "1                      213607  1.0                 80000   \n",
        "2                      335860  0.8                     0   \n",
        "3                      623872  1.0                     0   \n",
        "4                           0  1.0                     0   \n",
        "\n",
        "   Actual Pay Ceiling (\u00a3)         Professional/Occupational Group  Notes  \\\n",
        "0                  134999  130000                             Law    NaN   \n",
        "1                   84999   84000                             Law    NaN   \n",
        "2                       0       0                             Law    NaN   \n",
        "3                       0       0                             Law    NaN   \n",
        "4                       0       0                             Law    NaN   \n",
        "\n",
        "   Valid?  \n",
        "0       1  \n",
        "1       1  \n",
        "2       1  \n",
        "3       1  \n",
        "4       1  \n",
        "\n",
        "[5 rows x 19 columns]"
       ]
      }
     ],
     "prompt_number": 125
    }
   ],
   "metadata": {}
  }
 ]
}