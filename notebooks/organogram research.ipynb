{
 "metadata": {
  "name": ""
 },
 "nbformat": 3,
 "nbformat_minor": 0,
 "worksheets": [
  {
   "cells": [
    {
     "cell_type": "code",
     "collapsed": false,
     "input": [
      "import pandas\n",
      "import csv\n",
      "src = pandas.read_excel('organograms/cleaned version of SFO data.xls','(final data) senior-staff',convert_float=True)\n",
      "# Filter null rows\n",
      "src = src[ src[u'Post Unique Reference'].notnull() ]"
     ],
     "language": "python",
     "metadata": {},
     "outputs": [],
     "prompt_number": 2
    },
    {
     "cell_type": "code",
     "collapsed": false,
     "input": [
      "# Generate the output data, with different column names and cleaned up values\n",
      "def clean(x):\n",
      "    if pandas.isnull(x): \n",
      "        return x\n",
      "    return unicode(x).strip()\n",
      "seniors = pandas.DataFrame()\n",
      "seniors[u'Post Unique Reference']           = src[u'Post Unique Reference'].astype('int')\n",
      "seniors[u'Name']                            = src[u'Name'].map(clean)\n",
      "seniors[u'Grade']                           = src[u'Grade (or equivalent)'].map(clean)\n",
      "seniors[u'Job Title']                       = src[u'Job Title'].map(clean)\n",
      "seniors[u'Job/Team Function']               = src[u'Job/Team Function'].map(clean)\n",
      "seniors[u'Parent Department']               = src[u'Parent Department'].map(clean)\n",
      "seniors[u'Organisation']                    = src[u'Organisation'].map(clean)\n",
      "seniors[u'Unit']                            = src[u'Unit'].map(clean)\n",
      "seniors[u'Contact Phone']                   = src[u'Contact Phone'].map(clean)\n",
      "seniors[u'Contact E-mail']                  = src[u'Contact E-mail'].map(clean)\n",
      "seniors[u'Reports to Senior Post']          = src[u'Reports to Senior Post'].map(clean)\n",
      "seniors[u'Salary Cost of Reports (\u00a3)']      = src[u'Salary Cost of Reports (\u00a3)'].astype('int')\n",
      "seniors[u'FTE']                             = src[u'FTE']\n",
      "seniors[u'Actual Pay Floor (\u00a3)']            = src[u'Actual Pay Floor (\u00a3)'].fillna(0).astype('int')\n",
      "seniors[u'Actual Pay Ceiling (\u00a3)']          = src[u'Actual Pay Ceiling (\u00a3)'].fillna(0).astype('int')\n",
      "seniors[u'']                                = src[u'Total Pay (\u00a3)']\n",
      "seniors[u'Professional/Occupational Group'] = src[u'Professional/Occupational Group'].map(clean)\n",
      "seniors[u'Notes']                           = src[u'Notes']\n",
      "seniors[u'Valid?']                          = src[u'Valid?']\n",
      "seniors = seniors.set_index('Post Unique Reference')\n",
      "# Dump to file\n",
      "seniors.to_csv('organograms/demo_senior_pay.csv',encoding='utf-8',quoting=csv.QUOTE_ALL)"
     ],
     "language": "python",
     "metadata": {},
     "outputs": [],
     "prompt_number": 3
    },
    {
     "cell_type": "code",
     "collapsed": false,
     "input": [
      "src2 = pandas.read_excel('organograms/cleaned version of SFO data.xls','(final data) junior-staff')\n",
      "src2 = src2[ src2['Parent Department'].notnull() ]"
     ],
     "language": "python",
     "metadata": {},
     "outputs": [],
     "prompt_number": 4
    },
    {
     "cell_type": "code",
     "collapsed": false,
     "input": [
      "# Generate the junior-staff output data, with different column names and cleaned up values\n",
      "juniors = pandas.DataFrame()\n",
      "juniors[u'Parent Department']               = src2[u'Parent Department'].map(clean)\n",
      "juniors[u'Organisation']                    = src2[u'Organisation'].map(clean)\n",
      "juniors[u'Unit']                            = src2[u'Unit'].map(clean)\n",
      "juniors[u'Reporting Senior Post']           = src2[u'Reporting Senior Post'].astype('int')\n",
      "juniors[u'Grade']                           = src2[u'Grade'].map(clean)\n",
      "juniors[u'Payscale Minimum (\u00a3)']            = src2[u'Payscale Minimum (\u00a3)'].astype('int')\n",
      "juniors[u'Payscale Maximum (\u00a3)']            = src2[u'Payscale Maximum (\u00a3)'].astype('int')\n",
      "juniors[u'Generic Job Title']               = src2[u'Generic Job Title'].map(clean)\n",
      "juniors[u'Number of Posts in FTE']          = src2[u'Number of Posts in FTE']\n",
      "juniors[u'Professional/Occupational Group'] = src2[u'Professional/Occupational Group'].map(clean)\n",
      "# Dump to file\n",
      "juniors.to_csv('organograms/demo_junior_pay.csv',encoding='utf-8',quoting=csv.QUOTE_ALL,index=False)\n",
      "!head -2 organograms/demo_junior_pay.csv"
     ],
     "language": "python",
     "metadata": {},
     "outputs": [
      {
       "output_type": "stream",
       "stream": "stdout",
       "text": [
        "\"Parent Department\",\"Organisation\",\"Unit\",\"Reporting Senior Post\",\"Grade\",\"Payscale Minimum (\u00a3)\",\"Payscale Maximum (\u00a3)\",\"Generic Job Title\",\"Number of Posts in FTE\",\"Professional/Occupational Group\"\r\n",
        "\"Attorney General's Office\",\"Serious Fraud Office\",\"Director's Office\",\"1\",\"EO\",\"23282\",\"29073\",\"Personal Assistant\",\"1.0\",\"Operational Delivery\"\r\n"
       ]
      }
     ],
     "prompt_number": 5
    },
    {
     "cell_type": "code",
     "collapsed": false,
     "input": [
      "#   == Graph construction ==\n",
      "\n",
      "seniors['senior'] = True\n",
      "juniors['senior'] = False\n",
      "# { unique_id -> { 'name':..., 'children':[ ] } }\n",
      "dicts = { unique_id:dict(row) for unique_id,row in seniors.fillna('').iterrows() }\n",
      "for row in dicts.values():\n",
      "    row['children'] = []\n",
      "# Populate the 'children' lists\n",
      "root = None\n",
      "for my_id,row in dicts.iteritems():\n",
      "    parent = row['Reports to Senior Post']\n",
      "    if parent=='XX':\n",
      "        assert root is None, 'Graph can only have one root node. Multiple rows have a parent id=\"XX\".'\n",
      "        root = row\n",
      "    else:\n",
      "        parent = int(parent)\n",
      "        dicts[parent]['children'].append(row)\n",
      "assert graph, 'Graph must have a root node. No row was found with parent id=\"XX\".'\n",
      "for junk_id,row in juniors.fillna('').iterrows():\n",
      "    parent = int( row['Reporting Senior Post'] )\n",
      "    dicts[parent]['children'].append(dict(row))"
     ],
     "language": "python",
     "metadata": {},
     "outputs": [],
     "prompt_number": 34
    },
    {
     "cell_type": "code",
     "collapsed": false,
     "input": [
      "import json\n",
      "with open('organograms/graph.json','w') as f:\n",
      "    json.dump(root,f)\n",
      "!stat organograms/graph.json"
     ],
     "language": "python",
     "metadata": {},
     "outputs": [
      {
       "output_type": "stream",
       "stream": "stdout",
       "text": [
        "16777218 33772541 -rw-r--r-- 2 zephod staff 0 69334 \"Mar  7 16:21:07 2014\" \"Mar  7 16:22:03 2014\" \"Mar  7 16:22:03 2014\" \"Mar  7 16:02:59 2014\" 4096 136 0 organograms/graph.json\r\n"
       ]
      }
     ],
     "prompt_number": 36
    }
   ],
   "metadata": {}
  }
 ]
}